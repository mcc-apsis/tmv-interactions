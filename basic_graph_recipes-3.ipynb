{
 "cells": [
  {
   "cell_type": "markdown",
   "metadata": {
    "deletable": true,
    "editable": true
   },
   "source": [
    "# Some recipes for analysing document data from the apsis platform\n",
    "\n",
    "Using python on the APSIS server, we can interact directly with the database and easily traverse the relationships between the database's different tables\n",
    "\n",
    "Here are a few examples plotting some basic scientometric data"
   ]
  },
  {
   "cell_type": "code",
   "execution_count": 2,
   "metadata": {
    "collapsed": true,
    "deletable": true,
    "editable": true
   },
   "outputs": [],
   "source": [
    "# Load some libraries for reading the data from the database and plotting \n",
    "\n",
    "import django\n",
    "import sys, os\n",
    "import pandas as pd\n",
    "import matplotlib.pyplot as plt\n",
    "\n",
    "sys.path.append('/home/galm/software/django/tmv/BasicBrowser/')\n",
    "os.environ.setdefault(\"DJANGO_SETTINGS_MODULE\", \"BasicBrowser.settings\")\n",
    "django.setup()\n",
    "\n",
    "from scoping.models import *\n",
    "\n",
    "from django.db.models import Count, Sum"
   ]
  },
  {
   "cell_type": "code",
   "execution_count": 3,
   "metadata": {
    "collapsed": false,
    "deletable": true,
    "editable": true
   },
   "outputs": [
    {
     "data": {
      "text/plain": [
       "26756"
      ]
     },
     "execution_count": 3,
     "metadata": {},
     "output_type": "execute_result"
    }
   ],
   "source": [
    "# get the query we are interested in -- \n",
    "p = Project.objects.get(pk=106) # This one is a demo query on shakespeare\n",
    "\n",
    "# get the documents associated with the query\n",
    "docs = Doc.objects.filter(docproject__project=p)\n",
    "\n",
    "#how many documents do we have?\n",
    "docs.count()"
   ]
  },
  {
   "cell_type": "code",
   "execution_count": 16,
   "metadata": {
    "collapsed": false,
    "deletable": true,
    "editable": true
   },
   "outputs": [
    {
     "data": {
      "text/html": [
       "<div>\n",
       "<style scoped>\n",
       "    .dataframe tbody tr th:only-of-type {\n",
       "        vertical-align: middle;\n",
       "    }\n",
       "\n",
       "    .dataframe tbody tr th {\n",
       "        vertical-align: top;\n",
       "    }\n",
       "\n",
       "    .dataframe thead th {\n",
       "        text-align: right;\n",
       "    }\n",
       "</style>\n",
       "<table border=\"1\" class=\"dataframe\">\n",
       "  <thead>\n",
       "    <tr style=\"text-align: right;\">\n",
       "      <th></th>\n",
       "      <th>doccat__category__name</th>\n",
       "      <th>n</th>\n",
       "    </tr>\n",
       "  </thead>\n",
       "  <tbody>\n",
       "    <tr>\n",
       "      <th>0</th>\n",
       "      <td>None</td>\n",
       "      <td>10973</td>\n",
       "    </tr>\n",
       "    <tr>\n",
       "      <th>1</th>\n",
       "      <td>Other mineralisation products</td>\n",
       "      <td>7154</td>\n",
       "    </tr>\n",
       "    <tr>\n",
       "      <th>2</th>\n",
       "      <td>Cement/concrete production</td>\n",
       "      <td>3846</td>\n",
       "    </tr>\n",
       "    <tr>\n",
       "      <th>3</th>\n",
       "      <td>C fiber and graphene</td>\n",
       "      <td>1454</td>\n",
       "    </tr>\n",
       "    <tr>\n",
       "      <th>4</th>\n",
       "      <td>Methane</td>\n",
       "      <td>950</td>\n",
       "    </tr>\n",
       "  </tbody>\n",
       "</table>\n",
       "</div>"
      ],
      "text/plain": [
       "          doccat__category__name      n\n",
       "0                           None  10973\n",
       "1  Other mineralisation products   7154\n",
       "2     Cement/concrete production   3846\n",
       "3           C fiber and graphene   1454\n",
       "4                        Methane    950"
      ]
     },
     "execution_count": 16,
     "metadata": {},
     "output_type": "execute_result"
    }
   ],
   "source": [
    "by_cat = docs.values('doccat__category__name').annotate(\n",
    "    n = Count('pk',distinct=True)\n",
    ").order_by('-n')\n",
    "\n",
    "df = pd.DataFrame.from_dict(list(by_cat))\n",
    "df.head()"
   ]
  },
  {
   "cell_type": "code",
   "execution_count": 4,
   "metadata": {
    "collapsed": false,
    "deletable": true,
    "editable": true
   },
   "outputs": [
    {
     "data": {
      "text/html": [
       "<div>\n",
       "<style scoped>\n",
       "    .dataframe tbody tr th:only-of-type {\n",
       "        vertical-align: middle;\n",
       "    }\n",
       "\n",
       "    .dataframe tbody tr th {\n",
       "        vertical-align: top;\n",
       "    }\n",
       "\n",
       "    .dataframe thead th {\n",
       "        text-align: right;\n",
       "    }\n",
       "</style>\n",
       "<table border=\"1\" class=\"dataframe\">\n",
       "  <thead>\n",
       "    <tr style=\"text-align: right;\">\n",
       "      <th></th>\n",
       "      <th>PY</th>\n",
       "      <th>n</th>\n",
       "    </tr>\n",
       "  </thead>\n",
       "  <tbody>\n",
       "    <tr>\n",
       "      <th>66</th>\n",
       "      <td>2015</td>\n",
       "      <td>2493</td>\n",
       "    </tr>\n",
       "    <tr>\n",
       "      <th>67</th>\n",
       "      <td>2016</td>\n",
       "      <td>2960</td>\n",
       "    </tr>\n",
       "    <tr>\n",
       "      <th>68</th>\n",
       "      <td>2017</td>\n",
       "      <td>3252</td>\n",
       "    </tr>\n",
       "    <tr>\n",
       "      <th>69</th>\n",
       "      <td>2018</td>\n",
       "      <td>3202</td>\n",
       "    </tr>\n",
       "    <tr>\n",
       "      <th>70</th>\n",
       "      <td>2019</td>\n",
       "      <td>94</td>\n",
       "    </tr>\n",
       "  </tbody>\n",
       "</table>\n",
       "</div>"
      ],
      "text/plain": [
       "      PY     n\n",
       "66  2015  2493\n",
       "67  2016  2960\n",
       "68  2017  3252\n",
       "69  2018  3202\n",
       "70  2019    94"
      ]
     },
     "execution_count": 4,
     "metadata": {},
     "output_type": "execute_result"
    }
   ],
   "source": [
    "# how many documents in each year?\n",
    "by_year = docs.values('PY').annotate(\n",
    "    n = Count('pk') # Count the pk - primary keys - of documents in each value of PY (year)\n",
    ").order_by('PY')\n",
    "\n",
    "# Put this into a dataframe\n",
    "by_year_df = pd.DataFrame.from_dict(list(by_year)) # we have to wrap the queryset in a list, so pandas can read it properly\n",
    "by_year_df.tail() # what do the last few rows look like?"
   ]
  },
  {
   "cell_type": "code",
   "execution_count": 5,
   "metadata": {
    "collapsed": false,
    "deletable": true,
    "editable": true
   },
   "outputs": [
    {
     "data": {
      "text/plain": [
       "<matplotlib.text.Text at 0x7f9550902908>"
      ]
     },
     "execution_count": 5,
     "metadata": {},
     "output_type": "execute_result"
    },
    {
     "data": {
      "image/png": "[encoded data removed]",
      "text/plain": [
       "<matplotlib.figure.Figure at 0x7f9551272be0>"
      ]
     },
     "metadata": {},
     "output_type": "display_data"
    }
   ],
   "source": [
    "# make a plot!\n",
    "plt.plot(by_year_df['PY'],by_year_df['n'])\n",
    "# Add some labels\n",
    "plt.xlabel('Publication year')\n",
    "plt.ylabel('Number of documents')"
   ]
  },
  {
   "cell_type": "code",
   "execution_count": 6,
   "metadata": {
    "collapsed": false,
    "deletable": true,
    "editable": true
   },
   "outputs": [
    {
     "data": {
      "text/html": [
       "<div>\n",
       "<style scoped>\n",
       "    .dataframe tbody tr th:only-of-type {\n",
       "        vertical-align: middle;\n",
       "    }\n",
       "\n",
       "    .dataframe tbody tr th {\n",
       "        vertical-align: top;\n",
       "    }\n",
       "\n",
       "    .dataframe thead th {\n",
       "        text-align: right;\n",
       "    }\n",
       "</style>\n",
       "<table border=\"1\" class=\"dataframe\">\n",
       "  <thead>\n",
       "    <tr style=\"text-align: right;\">\n",
       "      <th></th>\n",
       "      <th>n</th>\n",
       "      <th>wc__text</th>\n",
       "    </tr>\n",
       "  </thead>\n",
       "  <tbody>\n",
       "    <tr>\n",
       "      <th>0</th>\n",
       "      <td>3783</td>\n",
       "      <td>Chemistry, Physical</td>\n",
       "    </tr>\n",
       "    <tr>\n",
       "      <th>1</th>\n",
       "      <td>2956</td>\n",
       "      <td>Chemistry, Multidisciplinary</td>\n",
       "    </tr>\n",
       "    <tr>\n",
       "      <th>2</th>\n",
       "      <td>2734</td>\n",
       "      <td>Energy &amp; Fuels</td>\n",
       "    </tr>\n",
       "    <tr>\n",
       "      <th>3</th>\n",
       "      <td>1891</td>\n",
       "      <td>Engineering, Chemical</td>\n",
       "    </tr>\n",
       "    <tr>\n",
       "      <th>4</th>\n",
       "      <td>1787</td>\n",
       "      <td>Construction &amp; Building Technology</td>\n",
       "    </tr>\n",
       "  </tbody>\n",
       "</table>\n",
       "</div>"
      ],
      "text/plain": [
       "      n                            wc__text\n",
       "0  3783                 Chemistry, Physical\n",
       "1  2956        Chemistry, Multidisciplinary\n",
       "2  2734                      Energy & Fuels\n",
       "3  1891               Engineering, Chemical\n",
       "4  1787  Construction & Building Technology"
      ]
     },
     "execution_count": 6,
     "metadata": {},
     "output_type": "execute_result"
    }
   ],
   "source": [
    "# What categories are these documents in?\n",
    "# The double underscore __ indicates that we are traversing across a linked table\n",
    "# in this case we return the text attribut of the wc (web of science category) objects\n",
    "# which are linked to our set of documents (one document can be linked to several wcs)\n",
    "doc_cat = docs.values('wc__text').annotate(\n",
    "    n = Count('pk')\n",
    ").order_by('-n')\n",
    "doc_cat_df = pd.DataFrame.from_dict(list(doc_cat)) \n",
    "doc_cat_df.head()\n"
   ]
  },
  {
   "cell_type": "code",
   "execution_count": 7,
   "metadata": {
    "collapsed": false,
    "deletable": true,
    "editable": true
   },
   "outputs": [
    {
     "data": {
      "image/png": "[encoded data removed]",
      "text/plain": [
       "<matplotlib.figure.Figure at 0x7f95508a70f0>"
      ]
     },
     "metadata": {},
     "output_type": "display_data"
    }
   ],
   "source": [
    "# Another graph!\n",
    "fig, ax = plt.subplots()\n",
    "\n",
    "pdf = doc_cat_df.head(10) #let's just show the top 10 categories\n",
    "\n",
    "# Matplotlib doesn't much like categorical values, so set x positions with \\\n",
    "# the index of the dataframe [0-n]\n",
    "ax.bar(pdf.index,pdf['n'],edgecolor=\"grey\") \n",
    "# then we make sure there is a tick on each position\n",
    "ax.set_xticks(pdf.index)\n",
    "# And set the tick labels to the categories\n",
    "ax.set_xticklabels(pdf['wc__text'])\n",
    "# And rotate them\n",
    "plt.xticks(rotation=45,ha=\"right\")\n",
    "\n",
    "plt.show()"
   ]
  },
  {
   "cell_type": "code",
   "execution_count": 8,
   "metadata": {
    "collapsed": false,
    "deletable": true,
    "editable": true
   },
   "outputs": [
    {
     "data": {
      "image/png": "[encoded data removed]",
      "text/plain": [
       "<matplotlib.figure.Figure at 0x7f955094be48>"
      ]
     },
     "metadata": {},
     "output_type": "display_data"
    }
   ],
   "source": [
    "# And now the OECD categories\n",
    "doc_cat = docs.values('wc__oecd').annotate(\n",
    "    n = Count('pk')\n",
    ").order_by('-n')\n",
    "\n",
    "pdf = pd.DataFrame.from_dict(list(doc_cat)) \n",
    "\n",
    "fig, ax = plt.subplots()\n",
    "\n",
    "ax.bar(pdf.index,pdf['n'],edgecolor=\"grey\")\n",
    "ax.set_xticks(pdf.index)\n",
    "ax.set_xticklabels(pdf['wc__oecd'])\n",
    "plt.xticks(rotation=45,ha=\"right\")\n",
    "\n",
    "plt.show()"
   ]
  },
  {
   "cell_type": "code",
   "execution_count": 8,
   "metadata": {
    "collapsed": false,
    "deletable": true,
    "editable": true
   },
   "outputs": [
    {
     "data": {
      "image/png": "[encoded data removed]",
      "text/plain": [
       "<matplotlib.figure.Figure at 0x7f366eac11d0>"
      ]
     },
     "metadata": {},
     "output_type": "display_data"
    }
   ],
   "source": [
    "# Same goes for keywords - looks like a lot of these documents don't have keywords for some reason?\n",
    "doc_kw = docs.values('kw__text').annotate(\n",
    "    n = Count('pk')\n",
    ").order_by('-n')\n",
    "doc_kw_df = pd.DataFrame.from_dict(list(doc_kw)) \n",
    "doc_kw_df.head()\n",
    "\n",
    "pdf = doc_kw_df.head(10)\n",
    "\n",
    "fig, ax = plt.subplots()\n",
    "\n",
    "ax.bar(pdf.index,pdf['n'],edgecolor=\"grey\")\n",
    "ax.set_xticks(pdf.index)\n",
    "ax.set_xticklabels(pdf['kw__text'])\n",
    "plt.xticks(rotation=45,ha=\"right\")\n",
    "\n",
    "plt.show()"
   ]
  },
  {
   "cell_type": "code",
   "execution_count": null,
   "metadata": {
    "collapsed": false,
    "deletable": true,
    "editable": true
   },
   "outputs": [],
   "source": []
  }
 ],
 "metadata": {
  "kernelspec": {
   "display_name": "tmvenv_36",
   "language": "python",
   "name": "tmvenv_36"
  },
  "language_info": {
   "codemirror_mode": {
    "name": "ipython",
    "version": 3
   },
   "file_extension": ".py",
   "mimetype": "text/x-python",
   "name": "python",
   "nbconvert_exporter": "python",
   "pygments_lexer": "ipython3",
   "version": "3.6.6"
  }
 },
 "nbformat": 4,
 "nbformat_minor": 2
}
