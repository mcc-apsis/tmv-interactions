{
 "cells": [
  {
   "cell_type": "code",
   "execution_count": 1,
   "metadata": {
    "collapsed": true
   },
   "outputs": [],
   "source": [
    "import os, sys, time, resource, re, gc, shutil, math\n",
    "\n",
    "import django\n",
    "\n",
    "sys.path.append('/home/galm/software/django/tmv/BasicBrowser/')\n",
    "os.environ.setdefault(\"DJANGO_SETTINGS_MODULE\", \"BasicBrowser.settings\")\n",
    "django.setup()\n",
    "\n",
    "from scoping.models import *"
   ]
  },
  {
   "cell_type": "code",
   "execution_count": 15,
   "metadata": {
    "collapsed": false
   },
   "outputs": [
    {
     "data": {
      "text/plain": [
       "(0, {})"
      ]
     },
     "execution_count": 15,
     "metadata": {},
     "output_type": "execute_result"
    }
   ],
   "source": [
    "old_p = Project.objects.get(pk=112)\n",
    "\n",
    "new_p = Project.objects.get(pk=119)\n",
    "\n",
    "new_p.query_set.all().delete()"
   ]
  },
  {
   "cell_type": "code",
   "execution_count": 16,
   "metadata": {
    "collapsed": false
   },
   "outputs": [
    {
     "name": "stdout",
     "output_type": "stream",
     "text": [
      "Test_APSIS-4-UKAGEP - all docs\n",
      "Test_APSIS-4-UKAGEP - all docs\n",
      "Arsen_Datenbanksynthese_HAUTKREBS\n",
      "Arsen_Datenbanksynthese_LUNGENKREBS\n",
      "Arsen_Datenbanksynthese_BLASENKREBS\n"
     ]
    }
   ],
   "source": [
    "### new queries\n",
    "\n",
    "for c in Category.objects.filter(project=old_p):\n",
    "    c.pk = None\n",
    "    c.project=new_p\n",
    "    c.save()\n",
    "\n",
    "for q in Query.objects.filter(project=old_p):\n",
    "    print(q)\n",
    "    doc_ids = list(Doc.objects.filter(query=q).values_list('pk',flat=True))\n",
    "    q.pk = None\n",
    "    q.project=new_p\n",
    "    q.category=None\n",
    "    q.save()\n",
    "    t = Tag(\n",
    "        title=\"all\",\n",
    "        text=\"all\",\n",
    "        query=q\n",
    "    )\n",
    "    t.save()\n",
    "    for d in Doc.objects.filter(pk__in=doc_ids):\n",
    "        d.query.add(q)\n",
    "        d.tag.add(t)\n",
    "        \n",
    "    t.update_tag()"
   ]
  },
  {
   "cell_type": "code",
   "execution_count": 6,
   "metadata": {
    "collapsed": false
   },
   "outputs": [
    {
     "data": {
      "text/plain": [
       "<QuerySet [<Query: Arsen_Datenbanksynthese_BLASENKREBS>, <Query: Arsen_Datenbanksynthese_LUNGENKREBS>, <Query: Arsen_Datenbanksynthese_HAUTKREBS>, <Query: Test_APSIS-4-UKAGEP - all docs>, <Query: Test_APSIS-4-UKAGEP - all docs>, <Query: Arsen_Datenbanksynthese_HAUTKREBS>]>"
      ]
     },
     "execution_count": 6,
     "metadata": {},
     "output_type": "execute_result"
    }
   ],
   "source": [
    "### Docs to queries"
   ]
  }
 ],
 "metadata": {
  "kernelspec": {
   "display_name": "tmvenv_36",
   "language": "python",
   "name": "tmvenv_36"
  },
  "language_info": {
   "codemirror_mode": {
    "name": "ipython",
    "version": 3
   },
   "file_extension": ".py",
   "mimetype": "text/x-python",
   "name": "python",
   "nbconvert_exporter": "python",
   "pygments_lexer": "ipython3",
   "version": "3.6.6"
  }
 },
 "nbformat": 4,
 "nbformat_minor": 2
}
