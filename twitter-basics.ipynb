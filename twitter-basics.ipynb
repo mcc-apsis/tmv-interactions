{
 "cells": [
  {
   "cell_type": "code",
   "execution_count": 22,
   "metadata": {},
   "outputs": [],
   "source": [
    "import django, sys, os\n",
    "\n",
    "sys.path.append('/home/galm/software/django/tmv/BasicBrowser/')\n",
    "os.environ.setdefault(\"DJANGO_SETTINGS_MODULE\", \"BasicBrowser.settings\")\n",
    "django.setup()\n",
    "\n",
    "from twitter.models import *\n",
    "from django.db.models import Sum, Count"
   ]
  },
  {
   "cell_type": "code",
   "execution_count": 34,
   "metadata": {},
   "outputs": [
    {
     "data": {
      "text/plain": [
       "[{'author__screen_name': 'parents4future',\n",
       "  'text': '50.000 Menschen haben online gleich bei der wichtigen Petition  http://www.Klimaschutzgesetz.jetzt\\xa0 mitgezeichnet! Vielen Dank! Unser Ziel sind nicht die 50.000, sondern ein echtes #Klimaschutzgesetz! Bitte alle weiter mitzeichnen, wer noch nicht dabei ist, jede Stimme zählt #FridaysForFuture'},\n",
       " {'author__screen_name': 'extra3',\n",
       "  'text': 'Eilmeldung: \\nUnion verschiebt Klimawandel um mehrere Jahre. #Klimaschutzgesetz\\n\\nhttps://t.co/hR0GiuhWvJ'}]"
      ]
     },
     "execution_count": 34,
     "metadata": {},
     "output_type": "execute_result"
    }
   ],
   "source": [
    "s = TwitterSearch.objects.get(string=\"#Klimaschutzgesetz\")\n",
    "list(s.status_set.filter(retweets_count__gt=200).values('author__screen_name','text')[:2])"
   ]
  },
  {
   "cell_type": "code",
   "execution_count": 26,
   "metadata": {},
   "outputs": [
    {
     "data": {
      "text/plain": [
       "[{'author__screen_name': 'eozwei', 'n': 106},\n",
       " {'author__screen_name': 'carmenzedler', 'n': 97},\n",
       " {'author__screen_name': 'reinhard1957', 'n': 84},\n",
       " {'author__screen_name': 'Brick_Medak', 'n': 77},\n",
       " {'author__screen_name': 'Feenwald', 'n': 67}]"
      ]
     },
     "execution_count": 26,
     "metadata": {},
     "output_type": "execute_result"
    }
   ],
   "source": [
    "list(s.status_set.values('author__screen_name').annotate(\n",
    "    n = Count('pk')\n",
    ").order_by('-n')[:5])"
   ]
  },
  {
   "cell_type": "code",
   "execution_count": 46,
   "metadata": {},
   "outputs": [
    {
     "data": {
      "text/plain": [
       "[{'author__screen_name': 'BrigitteKnopf', 'n': 12},\n",
       " {'author__screen_name': 'mkalkuhl', 'n': 3},\n",
       " {'author__screen_name': 'KlausKordowski', 'n': 2},\n",
       " {'author__screen_name': 'PIK_Klima', 'n': 2},\n",
       " {'author__screen_name': 'cleanenergywire', 'n': 1}]"
      ]
     },
     "execution_count": 46,
     "metadata": {},
     "output_type": "execute_result"
    }
   ],
   "source": [
    "list(Status.objects.filter(\n",
    "    retweeted_by__screen_name=\"MCC_Berlin\"\n",
    ").values('author__screen_name').annotate(\n",
    "    n = Count('pk')\n",
    ").order_by('-n')[:5])"
   ]
  },
  {
   "cell_type": "code",
   "execution_count": null,
   "metadata": {},
   "outputs": [],
   "source": []
  },
  {
   "cell_type": "code",
   "execution_count": null,
   "metadata": {},
   "outputs": [],
   "source": []
  }
 ],
 "metadata": {
  "kernelspec": {
   "display_name": "tmv",
   "language": "python",
   "name": "tmv"
  },
  "language_info": {
   "codemirror_mode": {
    "name": "ipython",
    "version": 3
   },
   "file_extension": ".py",
   "mimetype": "text/x-python",
   "name": "python",
   "nbconvert_exporter": "python",
   "pygments_lexer": "ipython3",
   "version": "3.6.7"
  },
  "varInspector": {
   "cols": {
    "lenName": 16,
    "lenType": 16,
    "lenVar": 40
   },
   "kernels_config": {
    "python": {
     "delete_cmd_postfix": "",
     "delete_cmd_prefix": "del ",
     "library": "var_list.py",
     "varRefreshCmd": "print(var_dic_list())"
    },
    "r": {
     "delete_cmd_postfix": ") ",
     "delete_cmd_prefix": "rm(",
     "library": "var_list.r",
     "varRefreshCmd": "cat(var_dic_list()) "
    }
   },
   "types_to_exclude": [
    "module",
    "function",
    "builtin_function_or_method",
    "instance",
    "_Feature"
   ],
   "window_display": false
  }
 },
 "nbformat": 4,
 "nbformat_minor": 2
}
