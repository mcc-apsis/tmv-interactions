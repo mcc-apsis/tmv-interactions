{
 "cells": [
  {
   "cell_type": "code",
   "execution_count": 54,
   "metadata": {
    "collapsed": false,
    "deletable": true,
    "editable": true
   },
   "outputs": [],
   "source": [
    "import os, sys, time, resource, re, gc, shutil\n",
    "from multiprocess import Pool\n",
    "from functools import partial\n",
    "from mongoengine import *\n",
    "from urllib.parse import urlparse, parse_qsl\n",
    "connect('mongoengine_documents')\n",
    "import matplotlib.pyplot as plt\n",
    "import numpy as np\n",
    "import pandas as pd\n",
    "from mongoengine.queryset.visitor import Q\n",
    "import django\n",
    "sys.path.append('/home/galm/software/django/tmv/BasicBrowser/')\n",
    "os.environ.setdefault(\"DJANGO_SETTINGS_MODULE\", \"BasicBrowser.settings\")\n",
    "django.setup()\n",
    "from monary import Monary\n",
    "mon = Monary()\n",
    "\n",
    "from utils.utils import *\n",
    "from RISparser import readris\n",
    "\n",
    "from scoping.models import *\n",
    "\n",
    "from mongo_classes import *\n",
    "import time\n",
    "import gensim"
   ]
  },
  {
   "cell_type": "code",
   "execution_count": 56,
   "metadata": {
    "collapsed": false
   },
   "outputs": [],
   "source": [
    "def read_docs(fname, tokens_only=False):\n",
    "    for i, doc in enumerate(docs.iterator()):\n",
    "        yield gensim.utils.simple_preprocess(doc.title)\n",
    "        \n",
    "titles = read_docs(docs)\n",
    "dictionary = gensim.corpora.Dictionary(titles)\n",
    "corpus = [dictionary.doc2bow(t) for t in titles]\n",
    "tf_idf = gensim.models.TfidfModel(corpus)\n",
    "\n",
    "sims = gensim.similarities.Similarity('/usr/workdir/',tf_idf[corpus],\n",
    "                                      num_features=len(dictionary))\n"
   ]
  },
  {
   "cell_type": "code",
   "execution_count": null,
   "metadata": {
    "collapsed": true
   },
   "outputs": [],
   "source": [
    "def find_vec_similar(r):\n",
    "    sims = model.docvecs.most_similar([inferred_vector], topn=5)\n",
    "    for s in sims:\n",
    "        print(s)"
   ]
  },
  {
   "cell_type": "code",
   "execution_count": 38,
   "metadata": {
    "collapsed": true
   },
   "outputs": [],
   "source": [
    "def find_jaccard_similar(r):\n",
    "    s1 = shingle(get(r,'ti'))\n",
    "\n",
    "    twords = get(r,'ti').split()\n",
    "    if len(twords) > 1:\n",
    "        twords = ' '.join([x for x in twords[0:1]])\n",
    "    else:\n",
    "        twords = twords[0]\n",
    "\n",
    "    py_docs = scoping.models.Doc.objects.filter(\n",
    "        PY=get(r,'py'),\n",
    "        title__iregex='\\w',\n",
    "        title__icontains=twords\n",
    "    )\n",
    "    doc = None\n",
    "    for d in py_docs.iterator():\n",
    "        j = jaccard(s1,d.shingle())\n",
    "        if j > 0.51:\n",
    "            doc = d\n",
    "            return d\n",
    "    return None"
   ]
  },
  {
   "cell_type": "code",
   "execution_count": 45,
   "metadata": {
    "collapsed": false
   },
   "outputs": [
    {
     "name": "stdout",
     "output_type": "stream",
     "text": [
      "elapsed: 1.4e+01\n",
      "2\n"
     ]
    }
   ],
   "source": [
    "t0 = time.time()\n",
    "matches = []\n",
    "matched = []\n",
    "with open(\"mozart.ris\") as f:\n",
    "    entries = readris(f,mapping=RIS_KEY_MAPPING)\n",
    "    for i,e in enumerate(entries):\n",
    "        if i > 10:\n",
    "            break\n",
    "        d = find_jaccard_similar(e)\n",
    "        if d is not None:\n",
    "            matched.append(d)\n",
    "            matches.append(e)\n",
    "            \n",
    "        \n",
    "print(f\"elapsed: {time.time() - t0:.2}\")\n",
    "print(len(matches))"
   ]
  },
  {
   "cell_type": "code",
   "execution_count": 50,
   "metadata": {
    "collapsed": false
   },
   "outputs": [
    {
     "name": "stdout",
     "output_type": "stream",
     "text": [
      "['The effect of music therapy on the cardiac activity parameters of a fetus in a cardiotocographic examination', 'Neurosurgery and Music; Effect of Wolfgang Amadeus Mozart']\n",
      "['The effect of music therapy on the cardiac activity parameters of a fetus in a cardiotocographic examination', 'Neurosurgery and Music; Effect of Wolfgang Amadeus Mozart']\n"
     ]
    }
   ],
   "source": [
    "print([m.title for m in matched])\n",
    "print([m['ti'] for m in matches])"
   ]
  }
 ],
 "metadata": {
  "kernelspec": {
   "display_name": "tmvenv_36",
   "language": "python",
   "name": "tmvenv_36"
  },
  "language_info": {
   "codemirror_mode": {
    "name": "ipython",
    "version": 3
   },
   "file_extension": ".py",
   "mimetype": "text/x-python",
   "name": "python",
   "nbconvert_exporter": "python",
   "pygments_lexer": "ipython3",
   "version": "3.6.6"
  }
 },
 "nbformat": 4,
 "nbformat_minor": 2
}
