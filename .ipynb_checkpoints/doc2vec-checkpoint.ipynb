{
 "cells": [
  {
   "cell_type": "code",
   "execution_count": 2,
   "metadata": {},
   "outputs": [],
   "source": [
    "import django\n",
    "import sys, os\n",
    "from gensim.models import Word2Vec, Doc2Vec\n",
    "from gensim.models import Phrases\n",
    "import gensim\n",
    "\n",
    "sys.path.append('/home/galm/software/django/tmv/BasicBrowser/')\n",
    "os.environ.setdefault(\"DJANGO_SETTINGS_MODULE\", \"BasicBrowser.settings\")\n",
    "django.setup()\n",
    "\n",
    "from scoping.models import *\n",
    "\n",
    "import pandas as pd\n",
    "import numpy as np\n",
    "\n",
    "q = Query.objects.get(pk=1457)\n",
    "\n",
    "from mongoengine import *\n",
    "connect('mongoengine_documents')\n",
    "import matplotlib.pyplot as plt\n",
    "from mongoengine.queryset.visitor import Q\n",
    "from monary import Monary\n",
    "mon = Monary()\n",
    "\n",
    "from scoping.models import *\n",
    "\n",
    "from mongo_classes import *"
   ]
  },
  {
   "cell_type": "code",
   "execution_count": 3,
   "metadata": {},
   "outputs": [],
   "source": [
    "docs = Doc.objects.filter(title__iregex='\\w').order_by('id')#.filter(query=q)\n"
   ]
  },
  {
   "cell_type": "code",
   "execution_count": 4,
   "metadata": {},
   "outputs": [],
   "source": [
    "new_model = False\n",
    "\n",
    "if new_model:\n",
    "    def read_docs(fname, tokens_only=False):\n",
    "        for i, doc in enumerate(docs.iterator()):\n",
    "            yield gensim.models.doc2vec.TaggedDocument(gensim.utils.simple_preprocess(doc.title), [doc.pk])\n",
    "\n",
    "    titles = list(read_docs(docs))   \n",
    "    model = Doc2Vec(vector_size=100, min_count=4, epochs=20)\n",
    "    model.build_vocab(titles)\n",
    "    %time model.train(titles, total_examples=model.corpus_count, epochs=model.epochs)\n",
    "    model.save(\"/usr/local/apsis/queries/title_model\")\n",
    "else:\n",
    "    model = Doc2Vec.load(\"/usr/local/apsis/queries/title_model\")"
   ]
  },
  {
   "cell_type": "code",
   "execution_count": 5,
   "metadata": {},
   "outputs": [
    {
     "name": "stdout",
     "output_type": "stream",
     "text": [
      "MOST (178808, 0.6752161383628845): «The Community Connection Model: implementation of best evidence into practice for self-management of chronic diseases»\n",
      "\n",
      "SECOND-MOST (1637499, 0.6418509483337402): «Re-humanising Coriolanus: Community and the ethical self»\n",
      "\n",
      "MEDIAN (1675138, 0.5952215194702148): «CAIS: A Copy Adjustable Incentive Scheme in Community-Based Socially Aware Networking»\n",
      "\n",
      "LEAST (760532, 0.5900691747665405): «Little Ice Age catastrophic storms and the destruction of a Shetland Island community»\n",
      "\n"
     ]
    }
   ],
   "source": [
    "doc = \"Community care practices in Papua New Guinea\"\n",
    "doc = \"the community connection  implementation of best evidence into practice for self management of chronic diseases\"\n",
    "inferred_vector = model.infer_vector(\n",
    "    gensim.utils.simple_preprocess(doc),\n",
    "    steps=10\n",
    ")\n",
    "sims = model.docvecs.most_similar([inferred_vector], topn=10)\n",
    "\n",
    "for label, index in [('MOST', 0), ('SECOND-MOST', 1), ('MEDIAN', len(sims)//2), ('LEAST', len(sims) - 1)]:\n",
    "    doc = Doc.objects.get(pk=sims[index][0])\n",
    "    print(u'%s %s: «%s»\\n' % (label, sims[index], doc.title))\n"
   ]
  },
  {
   "cell_type": "code",
   "execution_count": 35,
   "metadata": {},
   "outputs": [
    {
     "data": {
      "text/plain": [
       "array([ 0.05483139, -0.2351463 , -0.00238824,  0.04705771, -0.1884255 ,\n",
       "       -0.04955637,  0.132155  , -0.06218947,  0.06878586, -0.09725178,\n",
       "       -0.0278096 , -0.04546114,  0.12181701, -0.2722967 , -0.06070914,\n",
       "        0.1252165 ,  0.07164548,  0.24546707, -0.06555949, -0.26001468,\n",
       "       -0.315494  , -0.09576944,  0.15461761,  0.18915173,  0.04625905,\n",
       "        0.06010205, -0.14016245, -0.128518  , -0.04832937,  0.01597836,\n",
       "        0.04487261,  0.17832758,  0.07736108, -0.16371477,  0.00511606,\n",
       "       -0.13336352,  0.00387926,  0.10324287, -0.00932682,  0.1016545 ,\n",
       "        0.17946395,  0.04266579, -0.17381766, -0.04202981, -0.02140993,\n",
       "       -0.04066537,  0.14094013, -0.12903176,  0.34556988,  0.06119904,\n",
       "       -0.08225444,  0.03992448,  0.10024586,  0.0753329 , -0.22265871,\n",
       "       -0.34863177, -0.06200911, -0.09053893, -0.27747154, -0.01484141,\n",
       "        0.19508229, -0.31707686, -0.0671447 , -0.06059628,  0.23324275,\n",
       "       -0.09350353, -0.02176358, -0.16508256, -0.07270879, -0.04002067,\n",
       "       -0.08375953,  0.16344559,  0.06403174,  0.0737759 ,  0.05449954,\n",
       "        0.3287444 , -0.09680305,  0.07382532, -0.26109287,  0.07525852,\n",
       "       -0.10378601, -0.17862572, -0.32742932,  0.14750741,  0.32925984,\n",
       "       -0.10431427,  0.07314976, -0.03339543,  0.06194957,  0.02368147,\n",
       "        0.19813246,  0.21918009, -0.09687973, -0.1519142 ,  0.09943634,\n",
       "       -0.02563884, -0.12916206,  0.15136209, -0.11725671,  0.20707384],\n",
       "      dtype=float32)"
      ]
     },
     "execution_count": 35,
     "metadata": {},
     "output_type": "execute_result"
    }
   ],
   "source": [
    "model.docvecs[178808]"
   ]
  },
  {
   "cell_type": "code",
   "execution_count": 33,
   "metadata": {},
   "outputs": [
    {
     "name": "stdout",
     "output_type": "stream",
     "text": [
      "The Community Connection Model: implementation of best evidence into practice for self-management of chronic diseases\n",
      "0.15354805\n"
     ]
    },
    {
     "ename": "TypeError",
     "evalue": "unhashable type: 'numpy.ndarray'",
     "output_type": "error",
     "traceback": [
      "\u001b[0;31m---------------------------------------------------------------------------\u001b[0m",
      "\u001b[0;31mTypeError\u001b[0m                                 Traceback (most recent call last)",
      "\u001b[0;32m<ipython-input-33-0c3985d12b1b>\u001b[0m in \u001b[0;36m<module>\u001b[0;34m()\u001b[0m\n\u001b[1;32m     19\u001b[0m \u001b[0;34m\u001b[0m\u001b[0m\n\u001b[1;32m     20\u001b[0m dv_sim = model.docvecs.distance(\n\u001b[0;32m---> 21\u001b[0;31m     \u001b[0mdv\u001b[0m\u001b[0;34m,\u001b[0m\u001b[0mdv\u001b[0m\u001b[0;34m\u001b[0m\u001b[0;34m\u001b[0m\u001b[0m\n\u001b[0m\u001b[1;32m     22\u001b[0m )\n\u001b[1;32m     23\u001b[0m \u001b[0mprint\u001b[0m\u001b[0;34m(\u001b[0m\u001b[0mdv_sim\u001b[0m\u001b[0;34m)\u001b[0m\u001b[0;34m\u001b[0m\u001b[0;34m\u001b[0m\u001b[0m\n",
      "\u001b[0;32m~/software/django/tmv/venv/lib/python3.6/site-packages/gensim/models/keyedvectors.py\u001b[0m in \u001b[0;36mdistance\u001b[0;34m(self, d1, d2)\u001b[0m\n\u001b[1;32m   1786\u001b[0m \u001b[0;34m\u001b[0m\u001b[0m\n\u001b[1;32m   1787\u001b[0m         \"\"\"\n\u001b[0;32m-> 1788\u001b[0;31m         \u001b[0;32mreturn\u001b[0m \u001b[0;36m1\u001b[0m \u001b[0;34m-\u001b[0m \u001b[0mself\u001b[0m\u001b[0;34m.\u001b[0m\u001b[0msimilarity\u001b[0m\u001b[0;34m(\u001b[0m\u001b[0md1\u001b[0m\u001b[0;34m,\u001b[0m \u001b[0md2\u001b[0m\u001b[0;34m)\u001b[0m\u001b[0;34m\u001b[0m\u001b[0;34m\u001b[0m\u001b[0m\n\u001b[0m\u001b[1;32m   1789\u001b[0m \u001b[0;34m\u001b[0m\u001b[0m\n\u001b[1;32m   1790\u001b[0m     \u001b[0;31m# required by base keyed vectors class\u001b[0m\u001b[0;34m\u001b[0m\u001b[0;34m\u001b[0m\u001b[0;34m\u001b[0m\u001b[0m\n",
      "\u001b[0;32m~/software/django/tmv/venv/lib/python3.6/site-packages/gensim/models/keyedvectors.py\u001b[0m in \u001b[0;36msimilarity\u001b[0;34m(self, d1, d2)\u001b[0m\n\u001b[1;32m   1757\u001b[0m \u001b[0;34m\u001b[0m\u001b[0m\n\u001b[1;32m   1758\u001b[0m         \"\"\"\n\u001b[0;32m-> 1759\u001b[0;31m         \u001b[0;32mreturn\u001b[0m \u001b[0mdot\u001b[0m\u001b[0;34m(\u001b[0m\u001b[0mmatutils\u001b[0m\u001b[0;34m.\u001b[0m\u001b[0munitvec\u001b[0m\u001b[0;34m(\u001b[0m\u001b[0mself\u001b[0m\u001b[0;34m[\u001b[0m\u001b[0md1\u001b[0m\u001b[0;34m]\u001b[0m\u001b[0;34m)\u001b[0m\u001b[0;34m,\u001b[0m \u001b[0mmatutils\u001b[0m\u001b[0;34m.\u001b[0m\u001b[0munitvec\u001b[0m\u001b[0;34m(\u001b[0m\u001b[0mself\u001b[0m\u001b[0;34m[\u001b[0m\u001b[0md2\u001b[0m\u001b[0;34m]\u001b[0m\u001b[0;34m)\u001b[0m\u001b[0;34m)\u001b[0m\u001b[0;34m\u001b[0m\u001b[0;34m\u001b[0m\u001b[0m\n\u001b[0m\u001b[1;32m   1760\u001b[0m \u001b[0;34m\u001b[0m\u001b[0m\n\u001b[1;32m   1761\u001b[0m     \u001b[0;32mdef\u001b[0m \u001b[0mn_similarity\u001b[0m\u001b[0;34m(\u001b[0m\u001b[0mself\u001b[0m\u001b[0;34m,\u001b[0m \u001b[0mds1\u001b[0m\u001b[0;34m,\u001b[0m \u001b[0mds2\u001b[0m\u001b[0;34m)\u001b[0m\u001b[0;34m:\u001b[0m\u001b[0;34m\u001b[0m\u001b[0;34m\u001b[0m\u001b[0m\n",
      "\u001b[0;32m~/software/django/tmv/venv/lib/python3.6/site-packages/gensim/models/keyedvectors.py\u001b[0m in \u001b[0;36m__getitem__\u001b[0;34m(self, index)\u001b[0m\n\u001b[1;32m   1572\u001b[0m \u001b[0;34m\u001b[0m\u001b[0m\n\u001b[1;32m   1573\u001b[0m         \"\"\"\n\u001b[0;32m-> 1574\u001b[0;31m         \u001b[0;32mif\u001b[0m \u001b[0mindex\u001b[0m \u001b[0;32min\u001b[0m \u001b[0mself\u001b[0m\u001b[0;34m:\u001b[0m\u001b[0;34m\u001b[0m\u001b[0;34m\u001b[0m\u001b[0m\n\u001b[0m\u001b[1;32m   1575\u001b[0m             \u001b[0;32mif\u001b[0m \u001b[0misinstance\u001b[0m\u001b[0;34m(\u001b[0m\u001b[0mindex\u001b[0m\u001b[0;34m,\u001b[0m \u001b[0mstring_types\u001b[0m \u001b[0;34m+\u001b[0m \u001b[0minteger_types\u001b[0m \u001b[0;34m+\u001b[0m \u001b[0;34m(\u001b[0m\u001b[0minteger\u001b[0m\u001b[0;34m,\u001b[0m\u001b[0;34m)\u001b[0m\u001b[0;34m)\u001b[0m\u001b[0;34m:\u001b[0m\u001b[0;34m\u001b[0m\u001b[0;34m\u001b[0m\u001b[0m\n\u001b[1;32m   1576\u001b[0m                 \u001b[0;32mreturn\u001b[0m \u001b[0mself\u001b[0m\u001b[0;34m.\u001b[0m\u001b[0mvectors_docs\u001b[0m\u001b[0;34m[\u001b[0m\u001b[0mself\u001b[0m\u001b[0;34m.\u001b[0m\u001b[0m_int_index\u001b[0m\u001b[0;34m(\u001b[0m\u001b[0mindex\u001b[0m\u001b[0;34m,\u001b[0m \u001b[0mself\u001b[0m\u001b[0;34m.\u001b[0m\u001b[0mdoctags\u001b[0m\u001b[0;34m,\u001b[0m \u001b[0mself\u001b[0m\u001b[0;34m.\u001b[0m\u001b[0mmax_rawint\u001b[0m\u001b[0;34m)\u001b[0m\u001b[0;34m]\u001b[0m\u001b[0;34m\u001b[0m\u001b[0;34m\u001b[0m\u001b[0m\n",
      "\u001b[0;32m~/software/django/tmv/venv/lib/python3.6/site-packages/gensim/models/keyedvectors.py\u001b[0m in \u001b[0;36m__contains__\u001b[0;34m(self, index)\u001b[0m\n\u001b[1;32m   1582\u001b[0m             \u001b[0;32mreturn\u001b[0m \u001b[0mindex\u001b[0m \u001b[0;34m<\u001b[0m \u001b[0mself\u001b[0m\u001b[0;34m.\u001b[0m\u001b[0mcount\u001b[0m\u001b[0;34m\u001b[0m\u001b[0;34m\u001b[0m\u001b[0m\n\u001b[1;32m   1583\u001b[0m         \u001b[0;32melse\u001b[0m\u001b[0;34m:\u001b[0m\u001b[0;34m\u001b[0m\u001b[0;34m\u001b[0m\u001b[0m\n\u001b[0;32m-> 1584\u001b[0;31m             \u001b[0;32mreturn\u001b[0m \u001b[0mindex\u001b[0m \u001b[0;32min\u001b[0m \u001b[0mself\u001b[0m\u001b[0;34m.\u001b[0m\u001b[0mdoctags\u001b[0m\u001b[0;34m\u001b[0m\u001b[0;34m\u001b[0m\u001b[0m\n\u001b[0m\u001b[1;32m   1585\u001b[0m \u001b[0;34m\u001b[0m\u001b[0m\n\u001b[1;32m   1586\u001b[0m     \u001b[0;32mdef\u001b[0m \u001b[0m__len__\u001b[0m\u001b[0;34m(\u001b[0m\u001b[0mself\u001b[0m\u001b[0;34m)\u001b[0m\u001b[0;34m:\u001b[0m\u001b[0;34m\u001b[0m\u001b[0;34m\u001b[0m\u001b[0m\n",
      "\u001b[0;31mTypeError\u001b[0m: unhashable type: 'numpy.ndarray'"
     ]
    }
   ],
   "source": [
    "d = \"Community care practices in Papua New Guinea\"\n",
    "dv = model.infer_vector(gensim.utils.simple_preprocess(d),steps=10)\n",
    "#print(dv)\n",
    "d2id = 178808\n",
    "d2 = Doc.objects.get(pk=178808).title\n",
    "\n",
    "d2v = model.docvecs[d2id]\n",
    "\n",
    "print(d2)\n",
    "\n",
    "dv_sim = model.docvecs.similarity_unseen_docs(\n",
    "    model,\n",
    "    gensim.utils.simple_preprocess(d), \n",
    "    gensim.utils.simple_preprocess(d2),\n",
    "    steps=50\n",
    ")\n",
    "\n",
    "dv_sim\n",
    "\n",
    "print(dv_sim)\n",
    "\n",
    "dv_sim = model.docvecs.distance(\n",
    "    dv,dv\n",
    ")\n",
    "print(dv_sim)"
   ]
  },
  {
   "cell_type": "code",
   "execution_count": 34,
   "metadata": {},
   "outputs": [
    {
     "data": {
      "text/plain": [
       "-3.707626694549049e-08"
      ]
     },
     "execution_count": 34,
     "metadata": {},
     "output_type": "execute_result"
    }
   ],
   "source": [
    "import scipy\n",
    "scipy.spatial.distance.cosine(dv,dv)"
   ]
  },
  {
   "cell_type": "code",
   "execution_count": 10,
   "metadata": {},
   "outputs": [],
   "source": [
    "d2 = model.docvecs[1252871]"
   ]
  },
  {
   "cell_type": "code",
   "execution_count": 11,
   "metadata": {},
   "outputs": [
    {
     "ename": "TypeError",
     "evalue": "similarity_unseen_docs() missing 1 required positional argument: 'doc_words2'",
     "output_type": "error",
     "traceback": [
      "\u001b[0;31m---------------------------------------------------------------------------\u001b[0m",
      "\u001b[0;31mTypeError\u001b[0m                                 Traceback (most recent call last)",
      "\u001b[0;32m<ipython-input-11-947d50755f92>\u001b[0m in \u001b[0;36m<module>\u001b[0;34m()\u001b[0m\n\u001b[1;32m      4\u001b[0m \u001b[0;34m\u001b[0m\u001b[0m\n\u001b[1;32m      5\u001b[0m \u001b[0;31m#Doc2Vec.similarity_unseen_docs(model,doc,doc)\u001b[0m\u001b[0;34m\u001b[0m\u001b[0;34m\u001b[0m\u001b[0;34m\u001b[0m\u001b[0m\n\u001b[0;32m----> 6\u001b[0;31m \u001b[0mmodel\u001b[0m\u001b[0;34m.\u001b[0m\u001b[0mdocvecs\u001b[0m\u001b[0;34m.\u001b[0m\u001b[0msimilarity_unseen_docs\u001b[0m\u001b[0;34m(\u001b[0m\u001b[0mdoc\u001b[0m\u001b[0;34m,\u001b[0m\u001b[0mdoc\u001b[0m\u001b[0;34m)\u001b[0m\u001b[0;34m\u001b[0m\u001b[0;34m\u001b[0m\u001b[0m\n\u001b[0m",
      "\u001b[0;31mTypeError\u001b[0m: similarity_unseen_docs() missing 1 required positional argument: 'doc_words2'"
     ]
    }
   ],
   "source": [
    "doc = Doc.objects.last().title\n",
    "doc = gensim.utils.simple_preprocess(doc)\n",
    "#inferred_vector = model.infer_vector(gensim.utils.simple_preprocess(doc),steps=125)\n",
    "\n",
    "#Doc2Vec.similarity_unseen_docs(model,doc,doc)\n",
    "#model.docvecs.similarity_unseen_docs(doc,doc)"
   ]
  }
 ],
 "metadata": {
  "kernelspec": {
   "display_name": "tmv",
   "language": "python",
   "name": "tmv"
  },
  "language_info": {
   "codemirror_mode": {
    "name": "ipython",
    "version": 3
   },
   "file_extension": ".py",
   "mimetype": "text/x-python",
   "name": "python",
   "nbconvert_exporter": "python",
   "pygments_lexer": "ipython3",
   "version": "3.6.7"
  }
 },
 "nbformat": 4,
 "nbformat_minor": 2
}
