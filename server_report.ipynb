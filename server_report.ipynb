{
 "cells": [
  {
   "cell_type": "code",
   "execution_count": 1,
   "metadata": {},
   "outputs": [],
   "source": [
    "import django\n",
    "import sys, os\n",
    "import pandas as pd\n",
    "import matplotlib.pyplot as plt\n",
    "from datetime import timedelta\n",
    "import numpy as np\n",
    "from django.utils import timezone\n",
    "\n",
    "sys.path.append('/home/galm/software/django/tmv/BasicBrowser/')\n",
    "os.environ.setdefault(\"DJANGO_SETTINGS_MODULE\", \"BasicBrowser.settings\")\n",
    "django.setup()\n",
    "\n",
    "from scoping.models import *\n",
    "from tmv_app.models import *\n",
    "\n",
    "from django.db.models import Count, Sum"
   ]
  },
  {
   "cell_type": "code",
   "execution_count": 2,
   "metadata": {},
   "outputs": [
    {
     "name": "stdout",
     "output_type": "stream",
     "text": [
      "98 projects\n"
     ]
    }
   ],
   "source": [
    "print(f\"{Project.objects.count()} projects\")"
   ]
  },
  {
   "cell_type": "code",
   "execution_count": 3,
   "metadata": {},
   "outputs": [
    {
     "name": "stdout",
     "output_type": "stream",
     "text": [
      "122 accounts, 32 logged in in last 4 weeks\n"
     ]
    }
   ],
   "source": [
    "users = User.objects.all()\n",
    "\n",
    "active_users = users.filter(last_login__gt=timezone.now()-timedelta(weeks=4))\n",
    "\n",
    "print(f\"{users.count()} accounts, {active_users.count()} logged in in last 4 weeks\")"
   ]
  },
  {
   "cell_type": "code",
   "execution_count": 4,
   "metadata": {},
   "outputs": [
    {
     "name": "stdout",
     "output_type": "stream",
     "text": [
      "1,902,005 documents\n"
     ]
    }
   ],
   "source": [
    "print(f\"{Doc.objects.count():,} documents\")"
   ]
  },
  {
   "cell_type": "code",
   "execution_count": 5,
   "metadata": {},
   "outputs": [
    {
     "name": "stdout",
     "output_type": "stream",
     "text": [
      "49,770 document ratings\n"
     ]
    }
   ],
   "source": [
    "dos = DocOwnership.objects.filter(relevant__in=[1,2,3])\n",
    "\n",
    "print(f\"{dos.count():,} document ratings\")"
   ]
  },
  {
   "cell_type": "code",
   "execution_count": 6,
   "metadata": {},
   "outputs": [
    {
     "data": {
      "image/png": "[encoded data removed]",
      "text/plain": [
       "<matplotlib.figure.Figure at 0x7f85a2ce37b8>"
      ]
     },
     "metadata": {},
     "output_type": "display_data"
    }
   ],
   "source": [
    "rels = list(dos.values('relevant').annotate(n=Count('pk')).order_by('-n'))\n",
    "\n",
    "for r in rels: # get the full name of relevance\n",
    "    r['relevant'] = DocOwnership.Status[r['relevant']][1]    \n",
    "\n",
    "dodf = pd.DataFrame.from_dict(rels)\n",
    "\n",
    "fig, ax = plt.subplots()\n",
    "\n",
    "ax.bar(dodf.index,dodf['n'])\n",
    "ax.set_xticks(dodf.index)\n",
    "ax.set_xticklabels(dodf['relevant'])\n",
    "\n",
    "plt.show()\n"
   ]
  },
  {
   "cell_type": "code",
   "execution_count": 7,
   "metadata": {},
   "outputs": [
    {
     "name": "stdout",
     "output_type": "stream",
     "text": [
      "343 topic models run\n",
      "18,754 topics\n",
      "6,371,606 terms\n"
     ]
    }
   ],
   "source": [
    "tms = RunStats.objects.filter(query__isnull=False)\n",
    "topics = Topic.objects.filter(run_id__in=tms)\n",
    "terms = Term.objects.filter(run_id__in=tms)\n",
    "\n",
    "print(f\"{tms.count()} topic models run\")\n",
    "\n",
    "print(f\"{topics.count():,} topics\")\n",
    "\n",
    "print(f\"{terms.count():,} terms\")"
   ]
  },
  {
   "cell_type": "code",
   "execution_count": 30,
   "metadata": {},
   "outputs": [
    {
     "data": {
      "image/png": "[encoded data removed]",
      "text/plain": [
       "<matplotlib.figure.Figure at 0x7f859c907128>"
      ]
     },
     "metadata": {},
     "output_type": "display_data"
    }
   ],
   "source": [
    "users = DocOwnership.objects.filter(\n",
    "    relevant__gt=0\n",
    ").values('user__username').annotate(\n",
    "    n = Count('pk')\n",
    ").order_by('-n')[:20]\n",
    "\n",
    "udf = pd.DataFrame.from_dict(list(users)).sort_values('n').reset_index(drop=True)\n",
    "\n",
    "fig, ax = plt.subplots(figsize=(5,6))\n",
    "\n",
    "ax.barh(udf.index,udf['n'],color=\"#bdbdbd\",edgecolor=\"black\")\n",
    "ax.set_yticks(udf.index)\n",
    "ax.set_yticklabels(udf['user__username'])\n",
    "\n",
    "ax.set_title('Documents rated')\n",
    "\n",
    "plt.tight_layout()\n",
    "\n",
    "plt.savefig('user_ratings.png')\n",
    "\n",
    "plt.show()"
   ]
  },
  {
   "cell_type": "code",
   "execution_count": null,
   "metadata": {},
   "outputs": [],
   "source": [
    "users = RunStats.objects.filter(\n",
    "    relevant__gt=0\n",
    ").values('user__username').annotate(\n",
    "    n = Count('pk')\n",
    ").order_by('-n')[:10]\n",
    "\n",
    "udf = pd.DataFrame.from_dict(list(users))\n",
    "\n",
    "fig, ax = plt.subplots(figsize=(7,4))\n",
    "\n",
    "ax.bar(udf.index,udf['n'])\n",
    "ax.set_xticks(udf.index)\n",
    "ax.set_xticklabels(udf['user__username'])\n",
    "\n",
    "ax.set_title('Documents rated')\n",
    "\n",
    "plt.savefig('user_ratings.png')\n",
    "\n",
    "plt.show()"
   ]
  }
 ],
 "metadata": {
  "kernelspec": {
   "display_name": "tmv",
   "language": "python",
   "name": "tmv"
  },
  "language_info": {
   "codemirror_mode": {
    "name": "ipython",
    "version": 3
   },
   "file_extension": ".py",
   "mimetype": "text/x-python",
   "name": "python",
   "nbconvert_exporter": "python",
   "pygments_lexer": "ipython3",
   "version": "3.6.7"
  }
 },
 "nbformat": 4,
 "nbformat_minor": 2
}
