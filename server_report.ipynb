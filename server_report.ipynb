{
 "cells": [
  {
   "cell_type": "code",
   "execution_count": 1,
   "metadata": {},
   "outputs": [],
   "source": [
    "mp_pdf = True\n",
    "import django, sys, os\n",
    "if mp_pdf:\n",
    "    extension = \"pdf\"\n",
    "    import matplotlib\n",
    "    matplotlib.use('pgf')\n",
    "    pgf_with_latex = {\n",
    "        \"text.usetex\": True,            # use LaTeX to write all text\n",
    "        \"pgf.rcfonts\": False,           # Ignore Matplotlibrc\n",
    "        \"text.latex.unicode\": True,\n",
    "        \"pgf.preamble\": [\n",
    "            #r\"\\usepackage[utf8x]{inputenc}\",\n",
    "            r\"\\usepackage{xcolor}\"\n",
    "        ],\n",
    "        \"pgf.texsystem\" : \"xelatex\",\n",
    "        \"figure.figsize\": [8,6]\n",
    "    }\n",
    "    matplotlib.rcParams.update(pgf_with_latex)\n",
    "    #matplotlib.rcParams['font.size'] = 6\n",
    "else:\n",
    "    extension = \"png\"\n",
    "    import matplotlib as mpl\n",
    "    mpl.rcParams['font.size'] = 6\n",
    "\n",
    "\n",
    "import pandas as pd\n",
    "import matplotlib.pyplot as plt\n",
    "from datetime import timedelta\n",
    "import numpy as np\n",
    "from django.utils import timezone\n",
    "\n",
    "sys.path.append('/home/galm/software/django/tmv/BasicBrowser/')\n",
    "os.environ.setdefault(\"DJANGO_SETTINGS_MODULE\", \"BasicBrowser.settings\")\n",
    "django.setup()\n",
    "\n",
    "from scoping.models import *\n",
    "from tmv_app.models import *\n",
    "\n",
    "from django.db.models import Count, Sum"
   ]
  },
  {
   "cell_type": "code",
   "execution_count": 2,
   "metadata": {},
   "outputs": [
    {
     "name": "stdout",
     "output_type": "stream",
     "text": [
      "148 projects\n"
     ]
    }
   ],
   "source": [
    "print(f\"{Project.objects.count()} projects\")"
   ]
  },
  {
   "cell_type": "code",
   "execution_count": 3,
   "metadata": {},
   "outputs": [
    {
     "name": "stdout",
     "output_type": "stream",
     "text": [
      "177 accounts, 24 logged in in last 4 weeks\n"
     ]
    }
   ],
   "source": [
    "users = User.objects.all()\n",
    "\n",
    "active_users = users.filter(last_login__gt=timezone.now()-timedelta(weeks=4))\n",
    "\n",
    "print(f\"{users.count()} accounts, {active_users.count()} logged in in last 4 weeks\")"
   ]
  },
  {
   "cell_type": "code",
   "execution_count": 4,
   "metadata": {},
   "outputs": [
    {
     "name": "stdout",
     "output_type": "stream",
     "text": [
      "37 MCC accounts, 140 external accounts\n"
     ]
    }
   ],
   "source": [
    "mcc_users = User.objects.filter(email__icontains=\"mcc-berlin\") | User.objects.filter(username__icontains=\"mcc-berlin\")\n",
    "mcc_users = mcc_users.distinct()\n",
    "external_users = User.objects.exclude(id__in=mcc_users.values_list('id',flat=True))\n",
    "\n",
    "print(f\"{mcc_users.count()} MCC accounts, {external_users.count()} external accounts\")"
   ]
  },
  {
   "cell_type": "code",
   "execution_count": 5,
   "metadata": {},
   "outputs": [
    {
     "data": {
      "text/plain": [
       "<matplotlib.axes._subplots.AxesSubplot at 0x7f31f578cd68>"
      ]
     },
     "execution_count": 5,
     "metadata": {},
     "output_type": "execute_result"
    }
   ],
   "source": [
    "\n",
    "udf = pd.DataFrame.from_dict(list(users.values('date_joined').order_by('date_joined')))\n",
    "\n",
    "udf['cumsum'] = udf.index\n",
    "\n",
    "udf.plot(x=\"date_joined\",y=\"cumsum\", label=\"Users\")"
   ]
  },
  {
   "cell_type": "code",
   "execution_count": 6,
   "metadata": {},
   "outputs": [
    {
     "data": {
      "text/plain": [
       "<matplotlib.axes._subplots.AxesSubplot at 0x7f31f5737c50>"
      ]
     },
     "execution_count": 6,
     "metadata": {},
     "output_type": "execute_result"
    }
   ],
   "source": [
    "\n",
    "fig, ax = plt.subplots(figsize=(8,5))\n",
    "\n",
    "udf = pd.DataFrame.from_dict(list(users.values('last_login').order_by('last_login')))\n",
    "\n",
    "udf['cumsum'] = udf.index\n",
    "\n",
    "udf.plot(x=\"last_login\",y=\"cumsum\", label=\"Users\",ax=ax)"
   ]
  },
  {
   "cell_type": "code",
   "execution_count": 7,
   "metadata": {},
   "outputs": [
    {
     "name": "stdout",
     "output_type": "stream",
     "text": [
      "2,446,366 documents\n"
     ]
    }
   ],
   "source": [
    "print(f\"{Doc.objects.count():,} documents\")"
   ]
  },
  {
   "cell_type": "code",
   "execution_count": 8,
   "metadata": {},
   "outputs": [
    {
     "name": "stdout",
     "output_type": "stream",
     "text": [
      "26290\n",
      "90,689 document ratings\n"
     ]
    }
   ],
   "source": [
    "dos = DocOwnership.objects.filter(relevant__in=[1,2,3])\n",
    "\n",
    "print(DocOwnership.objects.filter(relevant__gt=0,finish__isnull=True).count())\n",
    "\n",
    "print(f\"{dos.count():,} document ratings\")"
   ]
  },
  {
   "cell_type": "code",
   "execution_count": 9,
   "metadata": {},
   "outputs": [],
   "source": [
    "rels = list(dos.values('relevant').annotate(n=Count('pk')).order_by('-n'))\n",
    "\n",
    "for r in rels: # get the full name of relevance\n",
    "    r['relevant'] = DocOwnership.Status[r['relevant']][1]    \n",
    "\n",
    "dodf = pd.DataFrame.from_dict(rels)\n",
    "\n",
    "fig, ax = plt.subplots()\n",
    "\n",
    "ax.bar(dodf.index,dodf['n'])\n",
    "ax.set_xticks(dodf.index)\n",
    "ax.set_xticklabels(dodf['relevant'])\n",
    "\n",
    "plt.show()\n"
   ]
  },
  {
   "cell_type": "code",
   "execution_count": 14,
   "metadata": {},
   "outputs": [],
   "source": [
    "matplotlib.rcParams['font.size'] = 14\n",
    "\n",
    "dos = DocOwnership.objects.filter(relevant__gt=0)\n",
    "dodf = pd.DataFrame.from_dict(list(dos.values('date').order_by('date')))\n",
    "\n",
    "dodf['cumsum'] = dodf.index\n",
    "\n",
    "fig, ax = plt.subplots(figsize=(8,5))\n",
    "\n",
    "dodf.plot(x=\"date\",y=\"cumsum\", label=\"Document ratings\", ax=ax)\n",
    "\n",
    "\n",
    "\n",
    "plt.savefig(f'plots/ratings_time.{extension}', bbox_inches=\"tight\")"
   ]
  },
  {
   "cell_type": "code",
   "execution_count": 11,
   "metadata": {},
   "outputs": [
    {
     "data": {
      "text/html": [
       "<div>\n",
       "<style scoped>\n",
       "    .dataframe tbody tr th:only-of-type {\n",
       "        vertical-align: middle;\n",
       "    }\n",
       "\n",
       "    .dataframe tbody tr th {\n",
       "        vertical-align: top;\n",
       "    }\n",
       "\n",
       "    .dataframe thead th {\n",
       "        text-align: right;\n",
       "    }\n",
       "</style>\n",
       "<table border=\"1\" class=\"dataframe\">\n",
       "  <thead>\n",
       "    <tr style=\"text-align: right;\">\n",
       "      <th></th>\n",
       "      <th>finish</th>\n",
       "      <th>start</th>\n",
       "      <th>time</th>\n",
       "    </tr>\n",
       "  </thead>\n",
       "  <tbody>\n",
       "    <tr>\n",
       "      <th>0</th>\n",
       "      <td>2018-06-25 20:49:44.595003+00:00</td>\n",
       "      <td>2018-08-14 12:55:11.218028+00:00</td>\n",
       "      <td>-50 days +07:54:33.376975</td>\n",
       "    </tr>\n",
       "    <tr>\n",
       "      <th>1</th>\n",
       "      <td>2018-06-25 20:50:54.044504+00:00</td>\n",
       "      <td>2018-06-25 20:49:45.118759+00:00</td>\n",
       "      <td>0 days 00:01:08.925745</td>\n",
       "    </tr>\n",
       "    <tr>\n",
       "      <th>2</th>\n",
       "      <td>2018-06-25 20:51:41.587927+00:00</td>\n",
       "      <td>2018-06-25 20:50:54.534373+00:00</td>\n",
       "      <td>0 days 00:00:47.053554</td>\n",
       "    </tr>\n",
       "    <tr>\n",
       "      <th>3</th>\n",
       "      <td>2018-06-25 20:55:01.967982+00:00</td>\n",
       "      <td>2018-06-25 20:54:55.210001+00:00</td>\n",
       "      <td>0 days 00:00:06.757981</td>\n",
       "    </tr>\n",
       "    <tr>\n",
       "      <th>4</th>\n",
       "      <td>2018-06-25 20:55:54.345456+00:00</td>\n",
       "      <td>2018-06-25 20:55:02.374725+00:00</td>\n",
       "      <td>0 days 00:00:51.970731</td>\n",
       "    </tr>\n",
       "  </tbody>\n",
       "</table>\n",
       "</div>"
      ],
      "text/plain": [
       "                            finish                            start  \\\n",
       "0 2018-06-25 20:49:44.595003+00:00 2018-08-14 12:55:11.218028+00:00   \n",
       "1 2018-06-25 20:50:54.044504+00:00 2018-06-25 20:49:45.118759+00:00   \n",
       "2 2018-06-25 20:51:41.587927+00:00 2018-06-25 20:50:54.534373+00:00   \n",
       "3 2018-06-25 20:55:01.967982+00:00 2018-06-25 20:54:55.210001+00:00   \n",
       "4 2018-06-25 20:55:54.345456+00:00 2018-06-25 20:55:02.374725+00:00   \n",
       "\n",
       "                       time  \n",
       "0 -50 days +07:54:33.376975  \n",
       "1    0 days 00:01:08.925745  \n",
       "2    0 days 00:00:47.053554  \n",
       "3    0 days 00:00:06.757981  \n",
       "4    0 days 00:00:51.970731  "
      ]
     },
     "execution_count": 11,
     "metadata": {},
     "output_type": "execute_result"
    }
   ],
   "source": [
    "dos = DocOwnership.objects.filter(relevant__gt=0)\n",
    "dodf = pd.DataFrame.from_dict(list(dos.values('finish','start').order_by('finish')))\n",
    "\n",
    "dodf['time'] = dodf['finish'] - dodf['start']\n",
    "\n",
    "dodf.head()"
   ]
  },
  {
   "cell_type": "code",
   "execution_count": 12,
   "metadata": {},
   "outputs": [
    {
     "name": "stdout",
     "output_type": "stream",
     "text": [
      "671 topic models run\n",
      "29,942 topics\n",
      "11,786,504 terms\n"
     ]
    }
   ],
   "source": [
    "tms = RunStats.objects.filter(query__isnull=False)\n",
    "topics = Topic.objects.filter(run_id__in=tms)\n",
    "terms = Term.objects.filter(run_id__in=tms)\n",
    "\n",
    "print(f\"{tms.count()} topic models run\")\n",
    "\n",
    "print(f\"{topics.count():,} topics\")\n",
    "\n",
    "print(f\"{terms.count():,} terms\")"
   ]
  },
  {
   "cell_type": "code",
   "execution_count": 13,
   "metadata": {},
   "outputs": [
    {
     "data": {
      "image/png": "[encoded data removed]",
      "text/plain": [
       "<matplotlib.figure.Figure at 0x7f9a5e4b3e10>"
      ]
     },
     "metadata": {},
     "output_type": "display_data"
    }
   ],
   "source": [
    "users = DocOwnership.objects.filter(\n",
    "    relevant__gt=0\n",
    ").values('user__username').annotate(\n",
    "    n = Count('pk')\n",
    ").order_by('-n')[:20]\n",
    "\n",
    "udf = pd.DataFrame.from_dict(list(users)).sort_values('n').reset_index(drop=True)\n",
    "\n",
    "fig, ax = plt.subplots(figsize=(5,6))\n",
    "\n",
    "ax.barh(udf.index,udf['n'],color=\"#bdbdbd\",edgecolor=\"black\")\n",
    "ax.set_yticks(udf.index)\n",
    "ax.set_yticklabels(udf['user__username'])\n",
    "\n",
    "ax.set_title('Documents rated')\n",
    "\n",
    "plt.tight_layout()\n",
    "\n",
    "plt.savefig('user_ratings.png')\n",
    "\n",
    "plt.show()"
   ]
  },
  {
   "cell_type": "code",
   "execution_count": null,
   "metadata": {},
   "outputs": [],
   "source": []
  }
 ],
 "metadata": {
  "kernelspec": {
   "display_name": "tmv",
   "language": "python",
   "name": "tmv"
  },
  "language_info": {
   "codemirror_mode": {
    "name": "ipython",
    "version": 3
   },
   "file_extension": ".py",
   "mimetype": "text/x-python",
   "name": "python",
   "nbconvert_exporter": "python",
   "pygments_lexer": "ipython3",
   "version": "3.6.7"
  },
  "varInspector": {
   "cols": {
    "lenName": 16,
    "lenType": 16,
    "lenVar": 40
   },
   "kernels_config": {
    "python": {
     "delete_cmd_postfix": "",
     "delete_cmd_prefix": "del ",
     "library": "var_list.py",
     "varRefreshCmd": "print(var_dic_list())"
    },
    "r": {
     "delete_cmd_postfix": ") ",
     "delete_cmd_prefix": "rm(",
     "library": "var_list.r",
     "varRefreshCmd": "cat(var_dic_list()) "
    }
   },
   "types_to_exclude": [
    "module",
    "function",
    "builtin_function_or_method",
    "instance",
    "_Feature"
   ],
   "window_display": false
  }
 },
 "nbformat": 4,
 "nbformat_minor": 2
}
