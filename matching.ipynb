{
 "cells": [
  {
   "cell_type": "code",
   "execution_count": 57,
   "metadata": {
    "collapsed": false,
    "deletable": true,
    "editable": true
   },
   "outputs": [],
   "source": [
    "import os, sys, time, resource, re, gc, shutil\n",
    "from multiprocess import Pool\n",
    "from functools import partial\n",
    "from mongoengine import *\n",
    "from urllib.parse import urlparse, parse_qsl\n",
    "from gensim.models import Word2Vec, Doc2Vec\n",
    "connect('mongoengine_documents')\n",
    "import matplotlib.pyplot as plt\n",
    "import numpy as np\n",
    "import pandas as pd\n",
    "from mongoengine.queryset.visitor import Q\n",
    "import django\n",
    "sys.path.append('/home/galm/software/django/tmv/BasicBrowser/')\n",
    "os.environ.setdefault(\"DJANGO_SETTINGS_MODULE\", \"BasicBrowser.settings\")\n",
    "django.setup()\n",
    "from monary import Monary\n",
    "mon = Monary()\n",
    "\n",
    "from utils.utils import *\n",
    "from RISparser import readris\n",
    "\n",
    "from scoping.models import *\n",
    "\n",
    "from mongo_classes import *\n",
    "import time\n",
    "import gensim"
   ]
  },
  {
   "cell_type": "code",
   "execution_count": 93,
   "metadata": {
    "collapsed": false
   },
   "outputs": [
    {
     "name": "stderr",
     "output_type": "stream",
     "text": [
      "/home/galm/software/django/tmvenv_36/lib/python3.6/site-packages/gensim/matutils.py:718: FutureWarning: Conversion of the second argument of issubdtype from `int` to `np.signedinteger` is deprecated. In future, it will be treated as `np.int64 == np.dtype(int).type`.\n",
      "  if np.issubdtype(vec.dtype, np.int):\n"
     ]
    }
   ],
   "source": [
    "def read_docs(fname, tokens_only=False):\n",
    "    for i, doc in enumerate(docs.iterator()):\n",
    "        yield gensim.utils.simple_preprocess(doc.title)\n",
    "        \n",
    "titles = list(read_docs(docs))\n",
    "dictionary = gensim.corpora.Dictionary(titles)\n",
    "corpus = [dictionary.doc2bow(t) for t in titles]\n",
    "tf_idf = gensim.models.TfidfModel(corpus)\n",
    "\n",
    "tfidf_sims = gensim.similarities.Similarity('/queries/sims/',tf_idf[corpus],\n",
    "                                      num_features=len(dictionary))\n"
   ]
  },
  {
   "cell_type": "code",
   "execution_count": 91,
   "metadata": {
    "collapsed": false
   },
   "outputs": [
    {
     "data": {
      "text/plain": [
       "[]"
      ]
     },
     "execution_count": 91,
     "metadata": {},
     "output_type": "execute_result"
    }
   ],
   "source": []
  },
  {
   "cell_type": "code",
   "execution_count": 77,
   "metadata": {
    "collapsed": false
   },
   "outputs": [
    {
     "ename": "ValueError",
     "evalue": "need at least one array to concatenate",
     "output_type": "error",
     "traceback": [
      "\u001b[0;31m---------------------------------------------------------------------------\u001b[0m",
      "\u001b[0;31mValueError\u001b[0m                                Traceback (most recent call last)",
      "\u001b[0;32m<ipython-input-77-c40e7344f1a8>\u001b[0m in \u001b[0;36m<module>\u001b[0;34m()\u001b[0m\n\u001b[1;32m      5\u001b[0m \u001b[0;34m\u001b[0m\u001b[0m\n\u001b[1;32m      6\u001b[0m \u001b[0mdoc\u001b[0m \u001b[0;34m=\u001b[0m \u001b[0;34m{\u001b[0m\u001b[0;34m\"ti\"\u001b[0m\u001b[0;34m:\u001b[0m\u001b[0;34m\"the community connection model implementation of best evidence into practice for self management of chronic diseases\"\u001b[0m   \u001b[0;34m}\u001b[0m\u001b[0;34m\u001b[0m\u001b[0m\n\u001b[0;32m----> 7\u001b[0;31m \u001b[0mx\u001b[0m \u001b[0;34m=\u001b[0m \u001b[0mfind_tfidf_similar\u001b[0m\u001b[0;34m(\u001b[0m\u001b[0mdoc\u001b[0m\u001b[0;34m)\u001b[0m\u001b[0;34m\u001b[0m\u001b[0m\n\u001b[0m",
      "\u001b[0;32m<ipython-input-77-c40e7344f1a8>\u001b[0m in \u001b[0;36mfind_tfidf_similar\u001b[0;34m(r)\u001b[0m\n\u001b[1;32m      2\u001b[0m     \u001b[0mdoc_bow\u001b[0m \u001b[0;34m=\u001b[0m \u001b[0mdictionary\u001b[0m\u001b[0;34m.\u001b[0m\u001b[0mdoc2bow\u001b[0m\u001b[0;34m(\u001b[0m\u001b[0mgensim\u001b[0m\u001b[0;34m.\u001b[0m\u001b[0mutils\u001b[0m\u001b[0;34m.\u001b[0m\u001b[0msimple_preprocess\u001b[0m\u001b[0;34m(\u001b[0m\u001b[0mr\u001b[0m\u001b[0;34m[\u001b[0m\u001b[0;34m'ti'\u001b[0m\u001b[0;34m]\u001b[0m\u001b[0;34m)\u001b[0m\u001b[0;34m)\u001b[0m\u001b[0;34m\u001b[0m\u001b[0m\n\u001b[1;32m      3\u001b[0m     \u001b[0mquery_doc_tf_idf\u001b[0m \u001b[0;34m=\u001b[0m \u001b[0mtf_idf\u001b[0m\u001b[0;34m[\u001b[0m\u001b[0mdoc_bow\u001b[0m\u001b[0;34m]\u001b[0m\u001b[0;34m\u001b[0m\u001b[0m\n\u001b[0;32m----> 4\u001b[0;31m     \u001b[0;32mreturn\u001b[0m \u001b[0mtfidf_sims\u001b[0m\u001b[0;34m[\u001b[0m\u001b[0mquery_doc_tf_idf\u001b[0m\u001b[0;34m]\u001b[0m\u001b[0;34m\u001b[0m\u001b[0m\n\u001b[0m\u001b[1;32m      5\u001b[0m \u001b[0;34m\u001b[0m\u001b[0m\n\u001b[1;32m      6\u001b[0m \u001b[0mdoc\u001b[0m \u001b[0;34m=\u001b[0m \u001b[0;34m{\u001b[0m\u001b[0;34m\"ti\"\u001b[0m\u001b[0;34m:\u001b[0m\u001b[0;34m\"the community connection model implementation of best evidence into practice for self management of chronic diseases\"\u001b[0m   \u001b[0;34m}\u001b[0m\u001b[0;34m\u001b[0m\u001b[0m\n",
      "\u001b[0;32m~/software/django/tmvenv_36/lib/python3.6/site-packages/gensim/similarities/docsim.py\u001b[0m in \u001b[0;36m__getitem__\u001b[0;34m(self, query)\u001b[0m\n\u001b[1;32m    516\u001b[0m             \u001b[0;31m# user asked for all documents => just stack the sub-results into a single matrix\u001b[0m\u001b[0;34m\u001b[0m\u001b[0;34m\u001b[0m\u001b[0m\n\u001b[1;32m    517\u001b[0m             \u001b[0;31m# (works for both corpus / single doc query)\u001b[0m\u001b[0;34m\u001b[0m\u001b[0;34m\u001b[0m\u001b[0m\n\u001b[0;32m--> 518\u001b[0;31m             \u001b[0mresult\u001b[0m \u001b[0;34m=\u001b[0m \u001b[0mnumpy\u001b[0m\u001b[0;34m.\u001b[0m\u001b[0mhstack\u001b[0m\u001b[0;34m(\u001b[0m\u001b[0mshard_results\u001b[0m\u001b[0;34m)\u001b[0m\u001b[0;34m\u001b[0m\u001b[0m\n\u001b[0m\u001b[1;32m    519\u001b[0m         \u001b[0;32melse\u001b[0m\u001b[0;34m:\u001b[0m\u001b[0;34m\u001b[0m\u001b[0m\n\u001b[1;32m    520\u001b[0m             \u001b[0;31m# the following uses a lot of lazy evaluation and (optionally) parallel\u001b[0m\u001b[0;34m\u001b[0m\u001b[0;34m\u001b[0m\u001b[0m\n",
      "\u001b[0;32m~/software/django/tmvenv_36/lib/python3.6/site-packages/numpy/core/shape_base.py\u001b[0m in \u001b[0;36mhstack\u001b[0;34m(tup)\u001b[0m\n\u001b[1;32m    286\u001b[0m         \u001b[0;32mreturn\u001b[0m \u001b[0m_nx\u001b[0m\u001b[0;34m.\u001b[0m\u001b[0mconcatenate\u001b[0m\u001b[0;34m(\u001b[0m\u001b[0marrs\u001b[0m\u001b[0;34m,\u001b[0m \u001b[0;36m0\u001b[0m\u001b[0;34m)\u001b[0m\u001b[0;34m\u001b[0m\u001b[0m\n\u001b[1;32m    287\u001b[0m     \u001b[0;32melse\u001b[0m\u001b[0;34m:\u001b[0m\u001b[0;34m\u001b[0m\u001b[0m\n\u001b[0;32m--> 288\u001b[0;31m         \u001b[0;32mreturn\u001b[0m \u001b[0m_nx\u001b[0m\u001b[0;34m.\u001b[0m\u001b[0mconcatenate\u001b[0m\u001b[0;34m(\u001b[0m\u001b[0marrs\u001b[0m\u001b[0;34m,\u001b[0m \u001b[0;36m1\u001b[0m\u001b[0;34m)\u001b[0m\u001b[0;34m\u001b[0m\u001b[0m\n\u001b[0m\u001b[1;32m    289\u001b[0m \u001b[0;34m\u001b[0m\u001b[0m\n\u001b[1;32m    290\u001b[0m \u001b[0;34m\u001b[0m\u001b[0m\n",
      "\u001b[0;31mValueError\u001b[0m: need at least one array to concatenate"
     ]
    }
   ],
   "source": [
    "def find_tfidf_similar(r):\n",
    "    doc_bow = dictionary.doc2bow(gensim.utils.simple_preprocess(r['ti']))\n",
    "    query_doc_tf_idf = tf_idf[doc_bow]\n",
    "    return tfidf_sims[query_doc_tf_idf]\n",
    "     \n",
    "doc = {\"ti\":\"the community connection model implementation of best evidence into practice for self management of chronic diseases\"   }\n",
    "x = find_tfidf_similar(doc)"
   ]
  },
  {
   "cell_type": "code",
   "execution_count": 87,
   "metadata": {
    "collapsed": false
   },
   "outputs": [
    {
     "data": {
      "text/plain": [
       "[]"
      ]
     },
     "execution_count": 87,
     "metadata": {},
     "output_type": "execute_result"
    }
   ],
   "source": [
    "r = doc\n",
    "doc_bow = dictionary.doc2bow(gensim.utils.simple_preprocess(r['ti']))\n",
    "query_doc_tf_idf = tf_idf[doc_bow]\n",
    "query_doc_tf_idf\n",
    "#tfidf_sims[query_doc_tf_idf]"
   ]
  },
  {
   "cell_type": "code",
   "execution_count": 90,
   "metadata": {
    "collapsed": false
   },
   "outputs": [
    {
     "name": "stdout",
     "output_type": "stream",
     "text": [
      "TfidfModel(num_docs=0, num_nnz=0)\n"
     ]
    }
   ],
   "source": [
    "print(tf_idf)"
   ]
  },
  {
   "cell_type": "code",
   "execution_count": 62,
   "metadata": {
    "collapsed": true
   },
   "outputs": [],
   "source": [
    "model = Doc2Vec.load(\"/queries/title_model\")"
   ]
  },
  {
   "cell_type": "code",
   "execution_count": 65,
   "metadata": {
    "collapsed": true
   },
   "outputs": [],
   "source": [
    "\n",
    "def find_vec_similar(r):\n",
    "    inferred_vector = model.infer_vector(gensim.utils.simple_preprocess(r['ti']),steps=15)\n",
    "    sims = model.docvecs.most_similar([inferred_vector], topn=5)\n",
    "    for s in sims:\n",
    "        if s[1] > .65:\n",
    "            return Doc.objects.get(pk=s[0])"
   ]
  },
  {
   "cell_type": "code",
   "execution_count": null,
   "metadata": {
    "collapsed": true
   },
   "outputs": [],
   "source": []
  },
  {
   "cell_type": "code",
   "execution_count": 38,
   "metadata": {
    "collapsed": true
   },
   "outputs": [],
   "source": [
    "def find_jaccard_similar(r):\n",
    "    s1 = shingle(get(r,'ti'))\n",
    "\n",
    "    twords = get(r,'ti').split()\n",
    "    if len(twords) > 1:\n",
    "        twords = ' '.join([x for x in twords[0:1]])\n",
    "    else:\n",
    "        twords = twords[0]\n",
    "\n",
    "    py_docs = scoping.models.Doc.objects.filter(\n",
    "        PY=get(r,'py'),\n",
    "        title__iregex='\\w',\n",
    "        title__icontains=twords\n",
    "    )\n",
    "    doc = None\n",
    "    for d in py_docs.iterator():\n",
    "        j = jaccard(s1,d.shingle())\n",
    "        if j > 0.51:\n",
    "            doc = d\n",
    "            return d\n",
    "    return None"
   ]
  },
  {
   "cell_type": "code",
   "execution_count": 45,
   "metadata": {
    "collapsed": false
   },
   "outputs": [
    {
     "name": "stdout",
     "output_type": "stream",
     "text": [
      "elapsed: 1.4e+01\n",
      "2\n"
     ]
    }
   ],
   "source": [
    "t0 = time.time()\n",
    "matches = []\n",
    "matched = []\n",
    "with open(\"mozart.ris\") as f:\n",
    "    entries = readris(f,mapping=RIS_KEY_MAPPING)\n",
    "    for i,e in enumerate(entries):\n",
    "        if i > 10:\n",
    "            break\n",
    "        d = find_jaccard_similar(e)\n",
    "        if d is not None:\n",
    "            matched.append(d)\n",
    "            matches.append(e)\n",
    "            \n",
    "        \n",
    "print(f\"elapsed: {time.time() - t0:.2}\")\n",
    "print(len(matches))"
   ]
  },
  {
   "cell_type": "code",
   "execution_count": null,
   "metadata": {
    "collapsed": true
   },
   "outputs": [],
   "source": [
    "print([m.title for m in matched])\n",
    "print([m['ti'] for m in matches])"
   ]
  },
  {
   "cell_type": "code",
   "execution_count": 50,
   "metadata": {
    "collapsed": false
   },
   "outputs": [
    {
     "name": "stdout",
     "output_type": "stream",
     "text": [
      "['The effect of music therapy on the cardiac activity parameters of a fetus in a cardiotocographic examination', 'Neurosurgery and Music; Effect of Wolfgang Amadeus Mozart']\n",
      "['The effect of music therapy on the cardiac activity parameters of a fetus in a cardiotocographic examination', 'Neurosurgery and Music; Effect of Wolfgang Amadeus Mozart']\n"
     ]
    }
   ],
   "source": []
  },
  {
   "cell_type": "code",
   "execution_count": 66,
   "metadata": {
    "collapsed": false
   },
   "outputs": [
    {
     "name": "stderr",
     "output_type": "stream",
     "text": [
      "/home/galm/software/django/tmvenv_36/lib/python3.6/site-packages/gensim/matutils.py:737: FutureWarning: Conversion of the second argument of issubdtype from `int` to `np.signedinteger` is deprecated. In future, it will be treated as `np.int64 == np.dtype(int).type`.\n",
      "  if np.issubdtype(vec.dtype, np.int):\n"
     ]
    },
    {
     "name": "stdout",
     "output_type": "stream",
     "text": [
      "elapsed: 0.67\n",
      "6\n"
     ]
    }
   ],
   "source": [
    "t0 = time.time()\n",
    "matches = []\n",
    "matched = []\n",
    "with open(\"mozart.ris\") as f:\n",
    "    entries = readris(f,mapping=RIS_KEY_MAPPING)\n",
    "    for i,e in enumerate(entries):\n",
    "        if i > 10:\n",
    "            break\n",
    "        d = find_vec_similar(e)\n",
    "        if d is not None:\n",
    "            matched.append(d)\n",
    "            matches.append(e)\n",
    "            \n",
    "        \n",
    "print(f\"elapsed: {time.time() - t0:.2}\")\n",
    "print(len(matches))"
   ]
  },
  {
   "cell_type": "code",
   "execution_count": 67,
   "metadata": {
    "collapsed": false
   },
   "outputs": [
    {
     "name": "stdout",
     "output_type": "stream",
     "text": [
      "['Thermodynamic estimation of the probability of chemical reactions during alkaline decomposition of eudialyte concentrate', 'Strigolactones are required for nitric oxide to induce root elongation in response to nitrogen and phosphate deficiencies in rice', 'MEMBERS REPORT SMALLER (3-PERCENT) AVERAGE SALARY GAIN', 'Unraveling the Skilled Mobility for Sustainable Development Mantra: An Analysis of China-EU Academic Mobility', 'Operation of a solid oxide fuel cell on a reformed FAME mixture', 'A GIS-based analysis on the relationship between the annual available amount and the procurement cost of forest biomass in a mountainous region in Japan']\n",
      "['Amadeus: A vision of musical genius', 'The genre of the instrumental concerto in the viola repertoire: From bach to schnittke', 'The effect of music therapy on the cardiac activity parameters of a fetus in a cardiotocographic examination', 'Neurosurgery and Music; Effect of Wolfgang Amadeus Mozart', 'MICHAEL FINNISSY and WOLFGANG AMADEUS MOZART: The COMPOSER AS ANTHROPOLOGIST', 'Did Mozart Suffer from Gilles de la Tourette Syndrome?']\n"
     ]
    }
   ],
   "source": [
    "doc = "
   ]
  }
 ],
 "metadata": {
  "kernelspec": {
   "display_name": "tmvenv_36",
   "language": "python",
   "name": "tmvenv_36"
  },
  "language_info": {
   "codemirror_mode": {
    "name": "ipython",
    "version": 3
   },
   "file_extension": ".py",
   "mimetype": "text/x-python",
   "name": "python",
   "nbconvert_exporter": "python",
   "pygments_lexer": "ipython3",
   "version": "3.6.6"
  }
 },
 "nbformat": 4,
 "nbformat_minor": 2
}
