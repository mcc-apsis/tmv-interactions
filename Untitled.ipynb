{
 "cells": [
  {
   "cell_type": "code",
   "execution_count": 2,
   "metadata": {},
   "outputs": [
    {
     "data": {
      "text/plain": [
       "'TS=(migr* OR reloc* OR resettl* OR retreat OR displace* OR \"human mobility\" OR refugee OR depopulation OR remittances OR diaspora OR evacuation) AND TS=(environment* OR climat* OR hazard OR disaster) NOT TS=(animal OR species OR cell OR amphibi* OR salmon* OR turtle OR dune OR bird OR spawning OR dolphin OR tree OR plankton OR chemical OR fish OR metal OR particles OR mineralogical OR bees OR DNA) NOT WC= ( IMMUNOLOGY OR POLYMER SCIENCE OR GENERAL INTERNAL MEDICINE OR MATHEMATICAL COMPUTATIONAL BIOLOGY OR ENGINEERING OR MECHANICS OR NUCLEAR SCIENCE TECHNOLOGY OR FOOD SCIENCE TECHNOLOGY OR BIOTECHNOLOGY APPLIED MICROBIOLOGY OR ELECTROCHEMISTRY OR CHEMISTRY OR INSTRUMENTS INSTRUMENTATION OR OPERATIONS RESEARCH MANAGEMENT SCIENCE OR MATERIALS SCIENCE OR BIOPHYSICS OR CARDIOVASCULAR SYSTEM CARDIOLOGY OR METEOROLOGY ATMOSPHERIC SCIENCES OR MICROBIOLOGY OR METALLURGY METALLURGICAL ENGINEERING OR ZOOLOGY OR RADIOLOGY NUCLEAR MEDICINE MEDICAL IMAGING OR PHYSICAL GEOGRAPHY OR PHARMACOLOGY PHARMACY OR HEALTH CARE SCIENCES SERVICES OR BIOCHEMISTRY MOLECULAR BIOLOGY OR OPTICS OR OCEANOGRAPHY OR PSYCHIATRY OR HEMATOLOGY OR GEOCHEMISTRY GEOPHYSICS OR MATHEMATICS OR THERMODYNAMICS OR PHYSICS OR MINERALOGY OR WATER RESOURCES OR EDUCATION EDUCATIONAL RESEARCH OR PUBLIC ENVIRONMENTAL OCCUPATIONAL HEALTH OR PHYSIOLOGY OR IMAGING SCIENCE PHOTOGRAPHIC TECHNOLOGY OR COMPUTER SCIENCE OR RESEARCH EXPERIMENTAL MEDICINE OR AREA STUDIES OR EVOLUTIONARY BIOLOGY OR ENTOMOLOGY OR PATHOLOGY OR NEUROSCIENCES NEUROLOGY OR FORESTRY OR PEDIATRICS OR CELL BIOLOGY OR VETERINARY SCIENCES OR TROPICAL MEDICINE OR BEHAVIORAL SCIENCES OR NURSING OR BIODIVERSITY CONSERVATION OR LIFE SCIENCES BIOMEDICINE OTHER TOPICS OR TELECOMMUNICATIONS OR GERIATRICS GERONTOLOGY OR BUSINESS ECONOMICS OR SURGERY OR ORTHOPEDICS OR ONCOLOGY OR MINING MINERAL PROCESSING OR GENETICS HEREDITY OR DEVELOPMENTAL BIOLOGY OR NUTRITION DIETETICS OR BIOMEDICAL SOCIAL SCIENCES OR ASTRONOMY ASTROPHYSICS OR SPORT SCIENCES OR ENERGY FUELS OR DERMATOLOGY OR PLANT SCIENCES OR ENDOCRINOLOGY METABOLISM OR GASTROENTEROLOGY HEPATOLOGY OR PALEONTOLOGY OR PARASITOLOGY OR ARCHAEOLOGY OR PSYCHOLOGY OR ACOUSTICS OR CONSTRUCTION BUILDING TECHNOLOGY OR TRANSPORTATION OR AUTOMATION CONTROL SYSTEMS OR TOXICOLOGY OR SUBSTANCE ABUSE OR CARDIAC CARDIOVASCULAR SYSTEMS OR BUSINESS FINANCE OR REPRODUCTIVE BIOLOGY OR LIMNOLOGY OR UROLOGY NEPHROLOGY OR SPECTROSCOPY OR MEDICINE LEGAL OR CRYSTALLOGRAPHY OR MICROSCOPY OR ANATOMY MORPHOLOGY OR RELIGION OR LINGUISTICS OR ORNITHOLOGY OR BIOCHEMICAL RESEARCH METHODS OR FILM RADIO TELEVISION OR PERIPHERAL VASCULAR DISEASE OR INTEGRATIVE COMPLEMENTARY MEDICINE OR INDUSTRIAL RELATIONS LABOR OR OPHTHALMOLOGY OR ROBOTICS OR MEDICAL LABORATORY TECHNOLOGY OR OBSTETRICS GYNECOLOGY OR ALLERGY OR LITERATURE OR LANGUAGE LINGUISTICS OR MEDICAL INFORMATICS OR CRIMINOLOGY PENOLOGY OR MYCOLOGY OR TRANSPLANTATION OR ANESTHESIOLOGY OR STATISTICS PROBABILITY OR EDUCATION SCIENTIFIC DISCIPLINES OR MEDICAL ETHICS OR BUSINESS OR ANDROLOGY OR RHEUMATOLOGY OR LITERATURE ROMANCE OR MEDIEVAL RENAISSANCE STUDIES)'"
      ]
     },
     "execution_count": 2,
     "metadata": {},
     "output_type": "execute_result"
    }
   ],
   "source": [
    "import sys, os, django\n",
    "\n",
    "sys.path.append('/home/galm/software/django/tmv/BasicBrowser/')\n",
    "os.environ.setdefault(\"DJANGO_SETTINGS_MODULE\", \"BasicBrowser.settings\")\n",
    "django.setup()\n",
    "\n",
    "from scoping.models import *\n",
    "\n",
    "from pyparsing import *\n",
    "\n",
    "q = Query.objects.get(pk=7575)\n",
    "\n",
    "q.text"
   ]
  },
  {
   "cell_type": "code",
   "execution_count": 8,
   "metadata": {},
   "outputs": [
    {
     "name": "stdout",
     "output_type": "stream",
     "text": [
      "['TS']\n"
     ]
    }
   ],
   "source": [
    "AND = CaselessLiteral('AND')\n",
    "OR = CaselessLiteral('OR')\n",
    "NOT = CaselessLiteral('NOT')\n",
    "NEAR = Combine(Literal(\"NEAR\") + ZeroOrMore(Literal(\"/\") + Word(nums)))\n",
    "LBRACE,EQ,RBRACE,HASH = map(Suppress, '{=}#')\n",
    "object_name = Word(printables)\n",
    "key = Word(printables)\n",
    "value = Word(printables)\n",
    "\n",
    "key_val_expr = '=' + Word(printables)\n",
    "\n",
    "#n_exp = Combine(Word(alphas) + Literal(\" NEAR\") + ZeroOrMore(\"/\") + Word(nums) + \" \" + Word(alphas))\n",
    "\n",
    "VALUE = Word(alphas + \"*-\\\\\" + nums) | dblQuotedString\n",
    "\n",
    "QUERY = infixNotation(\n",
    "    VALUE,\n",
    "    [\n",
    "        (AND, 2, opAssoc.LEFT,),\n",
    "        (NEAR, 2, opAssoc.LEFT,),\n",
    "        (NOT, 2, opAssoc.LEFT,),\n",
    "        (OR, 2, opAssoc.LEFT,),\n",
    "\n",
    "    ]\n",
    ")\n",
    "\n",
    "class ComparisonExpr:\n",
    "    def __init__(self, tokens):\n",
    "        self.tokens = tokens\n",
    "        \n",
    "\n",
    "    def __str__(self):\n",
    "        return self.tokens.asDict()\n",
    "        #return \"Comparison:('field': {!r}, 'operator': {!r}, 'value': {!r})\".format(*self.tokens.asList())\n",
    "\n",
    "#VALUE.addParseAction(ComparisonExpr)\n",
    "\n",
    "RESULT = QUERY.parseString(q.text)\n",
    "#RESULT.pprint()\n",
    "RESULT.pprint()"
   ]
  }
 ],
 "metadata": {
  "kernelspec": {
   "display_name": "tmv",
   "language": "python",
   "name": "tmv"
  },
  "language_info": {
   "codemirror_mode": {
    "name": "ipython",
    "version": 3
   },
   "file_extension": ".py",
   "mimetype": "text/x-python",
   "name": "python",
   "nbconvert_exporter": "python",
   "pygments_lexer": "ipython3",
   "version": "3.6.7"
  },
  "varInspector": {
   "cols": {
    "lenName": 16,
    "lenType": 16,
    "lenVar": 40
   },
   "kernels_config": {
    "python": {
     "delete_cmd_postfix": "",
     "delete_cmd_prefix": "del ",
     "library": "var_list.py",
     "varRefreshCmd": "print(var_dic_list())"
    },
    "r": {
     "delete_cmd_postfix": ") ",
     "delete_cmd_prefix": "rm(",
     "library": "var_list.r",
     "varRefreshCmd": "cat(var_dic_list()) "
    }
   },
   "types_to_exclude": [
    "module",
    "function",
    "builtin_function_or_method",
    "instance",
    "_Feature"
   ],
   "window_display": false
  }
 },
 "nbformat": 4,
 "nbformat_minor": 2
}
