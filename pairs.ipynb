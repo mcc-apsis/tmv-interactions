{
 "cells": [
  {
   "cell_type": "code",
   "execution_count": 1,
   "metadata": {
    "collapsed": true,
    "deletable": true,
    "editable": true
   },
   "outputs": [],
   "source": [
    "import os, sys, time, resource, re, gc, shutil, math\n",
    "\n",
    "import django\n",
    "\n",
    "sys.path.append('/home/galm/software/django/tmv/BasicBrowser/')\n",
    "os.environ.setdefault(\"DJANGO_SETTINGS_MODULE\", \"BasicBrowser.settings\")\n",
    "django.setup()\n",
    "\n",
    "from scoping.models import *"
   ]
  },
  {
   "cell_type": "code",
   "execution_count": 3,
   "metadata": {
    "collapsed": false,
    "deletable": true,
    "editable": true
   },
   "outputs": [],
   "source": [
    "q = Query.objects.get(pk=3772)\n"
   ]
  },
  {
   "cell_type": "code",
   "execution_count": null,
   "metadata": {
    "collapsed": false,
    "deletable": true,
    "editable": true
   },
   "outputs": [],
   "source": []
  },
  {
   "cell_type": "code",
   "execution_count": 4,
   "metadata": {
    "collapsed": false,
    "deletable": true,
    "editable": true
   },
   "outputs": [],
   "source": [
    "t, created = Tag.objects.get_or_create(\n",
    "    query=q,\n",
    "    title=\"split_check\",\n",
    "    text=\"all\"\n",
    ")"
   ]
  },
  {
   "cell_type": "code",
   "execution_count": 5,
   "metadata": {
    "collapsed": false,
    "deletable": true,
    "editable": true
   },
   "outputs": [
    {
     "data": {
      "text/plain": [
       "[<QuerySet [<User: friedlb>, <User: eva.preinfalk>]>,\n",
       " <QuerySet [<User: nina.knittel>, <User: stefan.borsky@uni-graz.at>]>]"
      ]
     },
     "execution_count": 5,
     "metadata": {},
     "output_type": "execute_result"
    }
   ],
   "source": [
    "u_pairs = [\n",
    "    User.objects.filter(username__in=[\"friedlb\",\"eva.preinfalk\"]),\n",
    "    User.objects.filter(username__in=[\"nina.knittel\",\"stefan.borsky@uni-graz.at\"])\n",
    "]\n",
    "\n",
    "u_pairs"
   ]
  },
  {
   "cell_type": "code",
   "execution_count": 6,
   "metadata": {
    "collapsed": false,
    "deletable": true,
    "editable": true
   },
   "outputs": [],
   "source": [
    "DocOwnership.objects.filter(tag=t).delete()\n",
    "\n",
    "for i,d in enumerate(Doc.objects.filter(query=q)):\n",
    "    users = u_pairs[i % 2]\n",
    "    d.tag.add(t)\n",
    "    for u in users:\n",
    "        do,created = DocOwnership.objects.get_or_create(\n",
    "            doc=d,\n",
    "            user=u,\n",
    "            tag=t,\n",
    "            query=q\n",
    "        )\n",
    "        do.save()\n",
    "        \n",
    "t.update_tag()"
   ]
  }
 ],
 "metadata": {
  "kernelspec": {
   "display_name": "tmvenv_36",
   "language": "python",
   "name": "tmvenv_36"
  },
  "language_info": {
   "codemirror_mode": {
    "name": "ipython",
    "version": 3
   },
   "file_extension": ".py",
   "mimetype": "text/x-python",
   "name": "python",
   "nbconvert_exporter": "python",
   "pygments_lexer": "ipython3",
   "version": "3.6.6"
  }
 },
 "nbformat": 4,
 "nbformat_minor": 2
}
