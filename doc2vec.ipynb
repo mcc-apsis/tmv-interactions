{
 "cells": [
  {
   "cell_type": "code",
   "execution_count": 1,
   "metadata": {},
   "outputs": [],
   "source": [
    "import django\n",
    "import sys, os\n",
    "from gensim.models import Word2Vec, Doc2Vec\n",
    "from gensim.models import Phrases\n",
    "import gensim\n",
    "\n",
    "sys.path.append('/home/galm/software/django/tmv/BasicBrowser/')\n",
    "os.environ.setdefault(\"DJANGO_SETTINGS_MODULE\", \"BasicBrowser.settings\")\n",
    "django.setup()\n",
    "\n",
    "from scoping.models import *\n",
    "\n",
    "import pandas as pd\n",
    "import numpy as np\n",
    "\n",
    "q = Query.objects.get(pk=1457)\n",
    "\n",
    "from mongoengine import *\n",
    "connect('mongoengine_documents')\n",
    "import matplotlib.pyplot as plt\n",
    "from mongoengine.queryset.visitor import Q\n",
    "from monary import Monary\n",
    "mon = Monary()\n",
    "\n",
    "from scoping.models import *\n",
    "\n",
    "from mongo_classes import *"
   ]
  },
  {
   "cell_type": "code",
   "execution_count": 2,
   "metadata": {},
   "outputs": [],
   "source": [
    "docs = Doc.objects.filter(title__iregex='\\w').order_by('id')[:5]#.filter(query=q)\n"
   ]
  },
  {
   "cell_type": "code",
   "execution_count": 7,
   "metadata": {},
   "outputs": [
    {
     "name": "stdout",
     "output_type": "stream",
     "text": [
      "['proof', 'of', 'concept', 'for', 'a', 'new', 'energy', 'positive', 'wastewater', 'treatment', 'scheme']\n",
      "['do', 'more', 'experienced', 'developers', 'introduce', 'fewer', 'bugs']\n",
      "['wettability', 'determination', 'by', 'contact', 'angle', 'measurements', 'hvbb', 'coal', 'water', 'system', 'with', 'injection', 'of', 'synthetic', 'flue', 'gas', 'and', 'co2']\n",
      "['from', 'sidekick', 'to', 'sideshow', 'celebrity', 'entertainment', 'and', 'the', 'politics', 'of', 'distraction', 'why', 'americans', 'are', 'sleepwalking', 'toward', 'the', 'end', 'of', 'the', 'earth']\n",
      "['gps', 'based', 'assessment', 'of', 'equity', 'impacts', 'of', 'large', 'scale', 'electronic', 'freeway', 'tolling', 'in', 'gauteng', 'south', 'africa']\n"
     ]
    }
   ],
   "source": [
    "\n",
    "\n",
    "def simple_tokenize(s):\n",
    "    from nltk.tokenize import RegexpTokenizer\n",
    "    tokenizer = RegexpTokenizer('\\W+', gaps=True)\n",
    "    return tokenizer.tokenize(s.lower())\n",
    "\n",
    "for d in docs:\n",
    "    print(simple_tokenize(d.title))"
   ]
  },
  {
   "cell_type": "code",
   "execution_count": 3,
   "metadata": {},
   "outputs": [],
   "source": [
    "new_model = False\n",
    "\n",
    "if new_model:\n",
    "    def read_docs(fname, tokens_only=False):\n",
    "        for i, doc in enumerate(docs.iterator()):\n",
    "            yield gensim.models.doc2vec.TaggedDocument(gensim.utils.simple_preprocess(doc.title), [doc.pk])\n",
    "\n",
    "    titles = list(read_docs(docs))   \n",
    "    model = Doc2Vec(vector_size=150, min_count=4, epochs=20)\n",
    "    model.build_vocab(titles)\n",
    "    %time model.train(titles, total_examples=model.corpus_count, epochs=model.epochs)\n",
    "    model.save(\"/usr/local/apsis/queries/title_model_150\")\n",
    "else:\n",
    "    model = Doc2Vec.load(\"/usr/local/apsis/queries/title_model\")"
   ]
  },
  {
   "cell_type": "code",
   "execution_count": 45,
   "metadata": {},
   "outputs": [
    {
     "name": "stdout",
     "output_type": "stream",
     "text": [
      "MOST (547314, 0.6887259483337402): «2 degrees C and SDGs: united they stand, divided they fall?»\n",
      "\n",
      "SECOND-MOST (719548, 0.5949527025222778): «2°C and SDGs: United they stand, divided they fall?»\n",
      "\n",
      "MEDIAN (1720151, 0.4435374140739441): «Will older sedentary people with non-insulin-dependent diabetes mellitus start exercising? A health promotion model»\n",
      "\n",
      "LEAST (1689257, 0.42256417870521545): «COMPARATIVE SIMULATIONS OF FREE SURFACE FLOWS USING VOF-METHODS AND A NEW APPROACH FOR MULTI-SCALE INTERFACIAL STRUCTURES»\n",
      "\n"
     ]
    }
   ],
   "source": [
    "doc = \"2 degrees and Sustainable Development Goals: United theystand, divided they fall?\"\n",
    "#doc = \"the community connection  implementation of best evidence into practice for self management of chronic diseases\"\n",
    "inferred_vector = model.infer_vector(\n",
    "    gensim.utils.simple_preprocess(doc),\n",
    "    steps=250\n",
    ")\n",
    "sims = model.docvecs.most_similar([inferred_vector], topn=10)\n",
    "\n",
    "for label, index in [('MOST', 0), ('SECOND-MOST', 1), ('MEDIAN', len(sims)//2), ('LEAST', len(sims) - 1)]:\n",
    "    doc = Doc.objects.get(pk=sims[index][0])\n",
    "    print(u'%s %s: «%s»\\n' % (label, sims[index], doc.title))\n"
   ]
  },
  {
   "cell_type": "code",
   "execution_count": 48,
   "metadata": {},
   "outputs": [
    {
     "name": "stdout",
     "output_type": "stream",
     "text": [
      "Similarity: 0.69 - 2 degrees C and SDGs: united they stand, divided they fall? \\\\\n",
      "Similarity: 0.59 - 2°C and SDGs: United they stand, divided they fall? \\\\\n",
      "Similarity: 0.46 - Ready, steady build \\\\\n",
      "Similarity: 0.46 - United we stand, divided we fall - Influencing international and domestic renewable energy policy \\\\\n"
     ]
    }
   ],
   "source": [
    "for index in [0,1,2,3]:\n",
    "    doc = Doc.objects.get(pk=sims[index][0])\n",
    "    print(f'Similarity: {sims[index][1]:.2} - {doc.title} \\\\\\\\')"
   ]
  },
  {
   "cell_type": "code",
   "execution_count": 54,
   "metadata": {},
   "outputs": [
    {
     "name": "stdout",
     "output_type": "stream",
     "text": [
      "Stress in community care teams: will it affect the sustainability of community care?\n",
      "0.47854826\n"
     ]
    }
   ],
   "source": [
    "d = \"Community care practices in Papua New Guinea\"\n",
    "dv = model.infer_vector(gensim.utils.simple_preprocess(d),steps=10)\n",
    "#print(dv)\n",
    "d2id = 732190\n",
    "d2 = Doc.objects.get(pk=d2id).title\n",
    "\n",
    "d2v = model.docvecs[d2id]\n",
    "\n",
    "print(d2)\n",
    "\n",
    "dv_sim = model.docvecs.similarity_unseen_docs(\n",
    "    model,\n",
    "    gensim.utils.simple_preprocess(d), \n",
    "    gensim.utils.simple_preprocess(d2),\n",
    "    steps=10\n",
    ")\n",
    "\n",
    "dv_sim\n",
    "\n",
    "print(dv_sim)"
   ]
  },
  {
   "cell_type": "code",
   "execution_count": 52,
   "metadata": {},
   "outputs": [
    {
     "data": {
      "text/plain": [
       "0.4411402218441035"
      ]
     },
     "execution_count": 52,
     "metadata": {},
     "output_type": "execute_result"
    }
   ],
   "source": [
    "import scipy\n",
    "scipy.spatial.distance.cosine(dv,d2v)"
   ]
  },
  {
   "cell_type": "code",
   "execution_count": 56,
   "metadata": {
    "scrolled": true
   },
   "outputs": [
    {
     "ename": "TypeError",
     "evalue": "unhashable type: 'numpy.ndarray'",
     "output_type": "error",
     "traceback": [
      "\u001b[0;31m---------------------------------------------------------------------------\u001b[0m",
      "\u001b[0;31mTypeError\u001b[0m                                 Traceback (most recent call last)",
      "\u001b[0;32m<ipython-input-56-9367868f7010>\u001b[0m in \u001b[0;36m<module>\u001b[0;34m()\u001b[0m\n\u001b[0;32m----> 1\u001b[0;31m \u001b[0mmodel\u001b[0m\u001b[0;34m.\u001b[0m\u001b[0mdocvecs\u001b[0m\u001b[0;34m.\u001b[0m\u001b[0mcloser_than\u001b[0m\u001b[0;34m(\u001b[0m\u001b[0mdv\u001b[0m\u001b[0;34m,\u001b[0m\u001b[0md2v\u001b[0m\u001b[0;34m)\u001b[0m\u001b[0;34m\u001b[0m\u001b[0;34m\u001b[0m\u001b[0m\n\u001b[0m",
      "\u001b[0;32m~/software/django/tmv/venv/lib/python3.6/site-packages/gensim/models/keyedvectors.py\u001b[0m in \u001b[0;36mcloser_than\u001b[0;34m(self, entity1, entity2)\u001b[0m\n\u001b[1;32m    358\u001b[0m     \u001b[0;32mdef\u001b[0m \u001b[0mcloser_than\u001b[0m\u001b[0;34m(\u001b[0m\u001b[0mself\u001b[0m\u001b[0;34m,\u001b[0m \u001b[0mentity1\u001b[0m\u001b[0;34m,\u001b[0m \u001b[0mentity2\u001b[0m\u001b[0;34m)\u001b[0m\u001b[0;34m:\u001b[0m\u001b[0;34m\u001b[0m\u001b[0;34m\u001b[0m\u001b[0m\n\u001b[1;32m    359\u001b[0m         \u001b[0;34m\"\"\"Get all entities that are closer to `entity1` than `entity2` is to `entity1`.\"\"\"\u001b[0m\u001b[0;34m\u001b[0m\u001b[0;34m\u001b[0m\u001b[0m\n\u001b[0;32m--> 360\u001b[0;31m         \u001b[0mall_distances\u001b[0m \u001b[0;34m=\u001b[0m \u001b[0mself\u001b[0m\u001b[0;34m.\u001b[0m\u001b[0mdistances\u001b[0m\u001b[0;34m(\u001b[0m\u001b[0mentity1\u001b[0m\u001b[0;34m)\u001b[0m\u001b[0;34m\u001b[0m\u001b[0;34m\u001b[0m\u001b[0m\n\u001b[0m\u001b[1;32m    361\u001b[0m         \u001b[0me1_index\u001b[0m \u001b[0;34m=\u001b[0m \u001b[0mself\u001b[0m\u001b[0;34m.\u001b[0m\u001b[0mvocab\u001b[0m\u001b[0;34m[\u001b[0m\u001b[0mentity1\u001b[0m\u001b[0;34m]\u001b[0m\u001b[0;34m.\u001b[0m\u001b[0mindex\u001b[0m\u001b[0;34m\u001b[0m\u001b[0;34m\u001b[0m\u001b[0m\n\u001b[1;32m    362\u001b[0m         \u001b[0me2_index\u001b[0m \u001b[0;34m=\u001b[0m \u001b[0mself\u001b[0m\u001b[0;34m.\u001b[0m\u001b[0mvocab\u001b[0m\u001b[0;34m[\u001b[0m\u001b[0mentity2\u001b[0m\u001b[0;34m]\u001b[0m\u001b[0;34m.\u001b[0m\u001b[0mindex\u001b[0m\u001b[0;34m\u001b[0m\u001b[0;34m\u001b[0m\u001b[0m\n",
      "\u001b[0;32m~/software/django/tmv/venv/lib/python3.6/site-packages/gensim/models/keyedvectors.py\u001b[0m in \u001b[0;36mdistances\u001b[0;34m(self, d1, other_docs)\u001b[0m\n\u001b[1;32m   1808\u001b[0m \u001b[0;34m\u001b[0m\u001b[0m\n\u001b[1;32m   1809\u001b[0m         \"\"\"\n\u001b[0;32m-> 1810\u001b[0;31m         \u001b[0minput_vector\u001b[0m \u001b[0;34m=\u001b[0m \u001b[0mself\u001b[0m\u001b[0;34m[\u001b[0m\u001b[0md1\u001b[0m\u001b[0;34m]\u001b[0m\u001b[0;34m\u001b[0m\u001b[0;34m\u001b[0m\u001b[0m\n\u001b[0m\u001b[1;32m   1811\u001b[0m         \u001b[0;32mif\u001b[0m \u001b[0;32mnot\u001b[0m \u001b[0mother_docs\u001b[0m\u001b[0;34m:\u001b[0m\u001b[0;34m\u001b[0m\u001b[0;34m\u001b[0m\u001b[0m\n\u001b[1;32m   1812\u001b[0m             \u001b[0mother_vectors\u001b[0m \u001b[0;34m=\u001b[0m \u001b[0mself\u001b[0m\u001b[0;34m.\u001b[0m\u001b[0mvectors_docs\u001b[0m\u001b[0;34m\u001b[0m\u001b[0;34m\u001b[0m\u001b[0m\n",
      "\u001b[0;32m~/software/django/tmv/venv/lib/python3.6/site-packages/gensim/models/keyedvectors.py\u001b[0m in \u001b[0;36m__getitem__\u001b[0;34m(self, index)\u001b[0m\n\u001b[1;32m   1572\u001b[0m \u001b[0;34m\u001b[0m\u001b[0m\n\u001b[1;32m   1573\u001b[0m         \"\"\"\n\u001b[0;32m-> 1574\u001b[0;31m         \u001b[0;32mif\u001b[0m \u001b[0mindex\u001b[0m \u001b[0;32min\u001b[0m \u001b[0mself\u001b[0m\u001b[0;34m:\u001b[0m\u001b[0;34m\u001b[0m\u001b[0;34m\u001b[0m\u001b[0m\n\u001b[0m\u001b[1;32m   1575\u001b[0m             \u001b[0;32mif\u001b[0m \u001b[0misinstance\u001b[0m\u001b[0;34m(\u001b[0m\u001b[0mindex\u001b[0m\u001b[0;34m,\u001b[0m \u001b[0mstring_types\u001b[0m \u001b[0;34m+\u001b[0m \u001b[0minteger_types\u001b[0m \u001b[0;34m+\u001b[0m \u001b[0;34m(\u001b[0m\u001b[0minteger\u001b[0m\u001b[0;34m,\u001b[0m\u001b[0;34m)\u001b[0m\u001b[0;34m)\u001b[0m\u001b[0;34m:\u001b[0m\u001b[0;34m\u001b[0m\u001b[0;34m\u001b[0m\u001b[0m\n\u001b[1;32m   1576\u001b[0m                 \u001b[0;32mreturn\u001b[0m \u001b[0mself\u001b[0m\u001b[0;34m.\u001b[0m\u001b[0mvectors_docs\u001b[0m\u001b[0;34m[\u001b[0m\u001b[0mself\u001b[0m\u001b[0;34m.\u001b[0m\u001b[0m_int_index\u001b[0m\u001b[0;34m(\u001b[0m\u001b[0mindex\u001b[0m\u001b[0;34m,\u001b[0m \u001b[0mself\u001b[0m\u001b[0;34m.\u001b[0m\u001b[0mdoctags\u001b[0m\u001b[0;34m,\u001b[0m \u001b[0mself\u001b[0m\u001b[0;34m.\u001b[0m\u001b[0mmax_rawint\u001b[0m\u001b[0;34m)\u001b[0m\u001b[0;34m]\u001b[0m\u001b[0;34m\u001b[0m\u001b[0;34m\u001b[0m\u001b[0m\n",
      "\u001b[0;32m~/software/django/tmv/venv/lib/python3.6/site-packages/gensim/models/keyedvectors.py\u001b[0m in \u001b[0;36m__contains__\u001b[0;34m(self, index)\u001b[0m\n\u001b[1;32m   1582\u001b[0m             \u001b[0;32mreturn\u001b[0m \u001b[0mindex\u001b[0m \u001b[0;34m<\u001b[0m \u001b[0mself\u001b[0m\u001b[0;34m.\u001b[0m\u001b[0mcount\u001b[0m\u001b[0;34m\u001b[0m\u001b[0;34m\u001b[0m\u001b[0m\n\u001b[1;32m   1583\u001b[0m         \u001b[0;32melse\u001b[0m\u001b[0;34m:\u001b[0m\u001b[0;34m\u001b[0m\u001b[0;34m\u001b[0m\u001b[0m\n\u001b[0;32m-> 1584\u001b[0;31m             \u001b[0;32mreturn\u001b[0m \u001b[0mindex\u001b[0m \u001b[0;32min\u001b[0m \u001b[0mself\u001b[0m\u001b[0;34m.\u001b[0m\u001b[0mdoctags\u001b[0m\u001b[0;34m\u001b[0m\u001b[0;34m\u001b[0m\u001b[0m\n\u001b[0m\u001b[1;32m   1585\u001b[0m \u001b[0;34m\u001b[0m\u001b[0m\n\u001b[1;32m   1586\u001b[0m     \u001b[0;32mdef\u001b[0m \u001b[0m__len__\u001b[0m\u001b[0;34m(\u001b[0m\u001b[0mself\u001b[0m\u001b[0;34m)\u001b[0m\u001b[0;34m:\u001b[0m\u001b[0;34m\u001b[0m\u001b[0;34m\u001b[0m\u001b[0m\n",
      "\u001b[0;31mTypeError\u001b[0m: unhashable type: 'numpy.ndarray'"
     ]
    }
   ],
   "source": [
    "model.docvecs.closer_than(dv,d2v)"
   ]
  },
  {
   "cell_type": "code",
   "execution_count": 11,
   "metadata": {},
   "outputs": [
    {
     "ename": "TypeError",
     "evalue": "similarity_unseen_docs() missing 1 required positional argument: 'doc_words2'",
     "output_type": "error",
     "traceback": [
      "\u001b[0;31m---------------------------------------------------------------------------\u001b[0m",
      "\u001b[0;31mTypeError\u001b[0m                                 Traceback (most recent call last)",
      "\u001b[0;32m<ipython-input-11-947d50755f92>\u001b[0m in \u001b[0;36m<module>\u001b[0;34m()\u001b[0m\n\u001b[1;32m      4\u001b[0m \u001b[0;34m\u001b[0m\u001b[0m\n\u001b[1;32m      5\u001b[0m \u001b[0;31m#Doc2Vec.similarity_unseen_docs(model,doc,doc)\u001b[0m\u001b[0;34m\u001b[0m\u001b[0;34m\u001b[0m\u001b[0;34m\u001b[0m\u001b[0m\n\u001b[0;32m----> 6\u001b[0;31m \u001b[0mmodel\u001b[0m\u001b[0;34m.\u001b[0m\u001b[0mdocvecs\u001b[0m\u001b[0;34m.\u001b[0m\u001b[0msimilarity_unseen_docs\u001b[0m\u001b[0;34m(\u001b[0m\u001b[0mdoc\u001b[0m\u001b[0;34m,\u001b[0m\u001b[0mdoc\u001b[0m\u001b[0;34m)\u001b[0m\u001b[0;34m\u001b[0m\u001b[0;34m\u001b[0m\u001b[0m\n\u001b[0m",
      "\u001b[0;31mTypeError\u001b[0m: similarity_unseen_docs() missing 1 required positional argument: 'doc_words2'"
     ]
    }
   ],
   "source": [
    "doc = Doc.objects.last().title\n",
    "doc = gensim.utils.simple_preprocess(doc)\n",
    "#inferred_vector = model.infer_vector(gensim.utils.simple_preprocess(doc),steps=125)\n",
    "\n",
    "#Doc2Vec.similarity_unseen_docs(model,doc,doc)\n",
    "#model.docvecs.similarity_unseen_docs(doc,doc)"
   ]
  }
 ],
 "metadata": {
  "kernelspec": {
   "display_name": "tmv",
   "language": "python",
   "name": "tmv"
  },
  "language_info": {
   "codemirror_mode": {
    "name": "ipython",
    "version": 3
   },
   "file_extension": ".py",
   "mimetype": "text/x-python",
   "name": "python",
   "nbconvert_exporter": "python",
   "pygments_lexer": "ipython3",
   "version": "3.6.7"
  },
  "varInspector": {
   "cols": {
    "lenName": 16,
    "lenType": 16,
    "lenVar": 40
   },
   "kernels_config": {
    "python": {
     "delete_cmd_postfix": "",
     "delete_cmd_prefix": "del ",
     "library": "var_list.py",
     "varRefreshCmd": "print(var_dic_list())"
    },
    "r": {
     "delete_cmd_postfix": ") ",
     "delete_cmd_prefix": "rm(",
     "library": "var_list.r",
     "varRefreshCmd": "cat(var_dic_list()) "
    }
   },
   "types_to_exclude": [
    "module",
    "function",
    "builtin_function_or_method",
    "instance",
    "_Feature"
   ],
   "window_display": false
  }
 },
 "nbformat": 4,
 "nbformat_minor": 2
}
